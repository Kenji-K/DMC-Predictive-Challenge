{
 "cells": [
  {
   "cell_type": "code",
   "execution_count": 1,
   "metadata": {
    "collapsed": false
   },
   "outputs": [
    {
     "data": {
      "text/plain": [
       "array([   2.,    8.,   32.,  128.,  512.])"
      ]
     },
     "execution_count": 1,
     "metadata": {},
     "output_type": "execute_result"
    }
   ],
   "source": [
    "import numpy as np\n",
    "np.logspace(1, 9, 5, base=2)"
   ]
  },
  {
   "cell_type": "code",
   "execution_count": 1,
   "metadata": {
    "collapsed": false
   },
   "outputs": [
    {
     "name": "stderr",
     "output_type": "stream",
     "text": [
      "C:\\Users\\Kenji\\Anaconda2\\envs\\python3\\lib\\site-packages\\IPython\\core\\interactiveshell.py:2705: DtypeWarning: Columns (1,2,3,4,5,6,27,28,29) have mixed types. Specify dtype option on import or set low_memory=False.\n",
      "  interactivity=interactivity, compiler=compiler, result=result)\n"
     ]
    }
   ],
   "source": [
    "from Definiciones import *\n",
    "import pandas as pd\n",
    "\n",
    "pd.options.display.max_rows = 100\n",
    "pd.options.display.max_columns = 100\n",
    "\n",
    "train_data = pd.read_csv('Data/DMC_Train.csv', header=0)\n",
    "test_data = pd.read_csv('Data/DMC_Test.csv', header=0)\n",
    "\n",
    "numeric_coerce = train_data.select_dtypes(include=[\"object\"]).drop([\"csa\"], axis=1).columns\n",
    "\n",
    "train_data[numeric_coerce] = train_data[numeric_coerce].apply(lambda x: pd.to_numeric(x, errors='coerce'))\n",
    "test_data[numeric_coerce] = test_data[numeric_coerce].apply(lambda x: pd.to_numeric(x, errors='coerce'))\n",
    "\n",
    "float_coerce = train_data.select_dtypes(include=[\"int64\"]).columns\n",
    "float_coerce = [x for x in float_coerce if x not in ['churn', 'customer']]\n",
    "train_data[float_coerce] = train_data[float_coerce].astype(float)\n",
    "test_data[float_coerce] = test_data[float_coerce].astype(float)\n",
    "\n",
    "target_var = \"churn\"\n",
    "predictors = [x for x in test_data.columns.tolist() if x not in ['customer', 'csa']]\n",
    "descriptors = ['incmiss', 'income', 'marryno', 'marryun', 'marryyes', \n",
    "               'occcler', 'occcrft', 'occhmkr', 'occprof', 'occret', \n",
    "               'occself', 'occstud', 'ownrent', 'prizmrur', 'prizmtwn', \n",
    "               'prizmub', 'credita', 'creditaa', 'creditb', 'creditc', \n",
    "               'creditcd', 'creditde', 'creditgy', 'creditz', 'mcycle', \n",
    "               'pcown', 'rv', 'travel', 'truck']\n",
    "\n",
    "business_vars = ['changem', 'changer', 'directas', 'mou', 'overage', \n",
    "                 'recchrge', 'roam', 'revenue', 'eqpdays', 'models', \n",
    "                 'phones', 'actvsubs', 'blckvce', 'callfwdv', 'callwait', \n",
    "                 'custcare', 'dropblk', 'dropvce', 'incalls', 'mailflag', \n",
    "                 'mailord', 'mailres', 'months', 'mourec', 'newcelln', \n",
    "                 'newcelly', 'opeakvce', 'outcalls', 'peakvce', 'refer', \n",
    "                 'refurb', 'retaccpt', 'retcall', 'retcalls', 'setprc', \n",
    "                 'setprcm', 'threeway', 'unansvce', 'uniqsubs', 'webcap']"
   ]
  },
  {
   "cell_type": "code",
   "execution_count": 2,
   "metadata": {
    "collapsed": false
   },
   "outputs": [
    {
     "name": "stderr",
     "output_type": "stream",
     "text": [
      "C:\\Users\\Kenji\\Anaconda2\\envs\\python3\\lib\\site-packages\\ipykernel\\__main__.py:12: FutureWarning: currently extract(expand=None) means expand=False (return Index/Series/DataFrame) but in a future version of pandas this will be changed to expand=True (return DataFrame)\n"
     ]
    }
   ],
   "source": [
    "#Creación de variables\n",
    "\n",
    "def variable_creation(df):\n",
    "    df[\"change_missing\"] = df[\"changem\"].isnull().astype(float)\n",
    "    df[\"missing_mean_info\"] = df[\"revenue\"].isnull().astype(float)\n",
    "    df[\"actvsubs_missing\"] = (df[\"actvsubs\"] == 0).astype(float)\n",
    "    df.loc[df['actvsubs_missing'] == 1, \"actvsubs\"] = np.NaN\n",
    "    df[\"age1_is_null\"] = ((df[\"age1\"].isnull()) | (df[\"age1\"] == 0)).astype(float)\n",
    "    df[\"age2_is_null\"] = ((df['age2'].isnull()) | ((df['age2'] == 0) & (df['actvsubs'] > 1))).astype(float)\n",
    "    df.loc[df[\"age1_is_null\"] == 1, \"age1\"] = np.NaN\n",
    "    df.loc[df[\"age2_is_null\"] == 1, \"age2\"] = np.NaN\n",
    "    geographic_info = df['csa'].str.extract('^(?P<first_city_code>.{3})(?P<second_city_code>.{3})(?P<geo_number>\\d{3})')\n",
    "    df = pd.concat([df, geographic_info], axis=1)\n",
    "    return df\n",
    "\n",
    "train_data = variable_creation(train_data)\n",
    "test_data = variable_creation(test_data)\n",
    "\n",
    "original_predictors = predictors\n",
    "predictors = predictors + [\"change_missing\", \"missing_mean_info\", \"age1_is_null\", \"age2_is_null\", \"actvsubs_missing\", \"first_city_code\", \"second_city_code\"]\n",
    "#, \"geo_number\""
   ]
  },
  {
   "cell_type": "code",
   "execution_count": null,
   "metadata": {
    "collapsed": true
   },
   "outputs": [],
   "source": [
    "#Joining with geographic information\n",
    "airport_codes = pd.read_csv('Data/airports.csv', header=0)\n",
    "\n",
    "train_data = pd.merge(train_data, airport_codes, left_on=['first_city_code'], right_on=['iata_code'], how='left')\n",
    "test_data = pd.merge(test_data, airport_codes, left_on=['first_city_code'], right_on=['iata_code'], how='left')"
   ]
  },
  {
   "cell_type": "code",
   "execution_count": 71,
   "metadata": {
    "collapsed": false
   },
   "outputs": [
    {
     "data": {
      "text/plain": [
       "array(['MIL', 'KCY', 'NYC', 'NOL', 'SFR', 'OHI', 'CHI', 'HWI', 'NMX',\n",
       "       'SDA', 'AWI', 'IPM', 'NVU'], dtype=object)"
      ]
     },
     "execution_count": 71,
     "metadata": {},
     "output_type": "execute_result"
    }
   ],
   "source": [
    "test_data[test_data['ident'].isnull()]['first_city_code'].unique()"
   ]
  },
  {
   "cell_type": "code",
   "execution_count": 70,
   "metadata": {
    "collapsed": false
   },
   "outputs": [
    {
     "data": {
      "text/plain": [
       "array(['MIL', 'KCY', 'NYC', 'NOL', 'SFR', 'OHI', 'CHI', 'HWI', 'NMX',\n",
       "       'SDA', 'IPM', 'NVU', 'AWI'], dtype=object)"
      ]
     },
     "execution_count": 70,
     "metadata": {},
     "output_type": "execute_result"
    }
   ],
   "source": [
    "train_data[train_data['ident'].isnull()]['first_city_code'].unique()"
   ]
  },
  {
   "cell_type": "code",
   "execution_count": 3,
   "metadata": {
    "collapsed": false
   },
   "outputs": [
    {
     "data": {
      "text/plain": [
       "(LabelEncoder(), LabelEncoder())"
      ]
     },
     "execution_count": 3,
     "metadata": {},
     "output_type": "execute_result"
    }
   ],
   "source": [
    "from sklearn.preprocessing import LabelEncoder\n",
    "\n",
    "def encode_categorical(df):\n",
    "    mask = ~(df[\"first_city_code\"].isnull())\n",
    "    first_city_encoder = LabelEncoder()\n",
    "    df.loc[mask, \"first_city_code\"] = first_city_encoder.fit_transform(df.loc[mask, \"first_city_code\"])\n",
    "    second_city_encoder = LabelEncoder()\n",
    "    df.loc[mask, \"second_city_code\"] = second_city_encoder.fit_transform(df.loc[mask, \"second_city_code\"])\n",
    "    return first_city_encoder, second_city_encoder\n",
    "\n",
    "encode_categorical(train_data)\n",
    "encode_categorical(test_data)"
   ]
  },
  {
   "cell_type": "code",
   "execution_count": 4,
   "metadata": {
    "collapsed": true
   },
   "outputs": [],
   "source": [
    "#Imputación\n",
    "from sklearn.preprocessing import Imputer\n",
    "\n",
    "continuous_vars = [\"changem\", \"changer\", \"directas\", \"mou\", \"overage\", \"recchrge\", \"roam\", \"revenue\"]\n",
    "train_data[continuous_vars], test_data[continuous_vars] = impute_train_test(train_data[continuous_vars], test_data[continuous_vars])\n",
    "\n",
    "discrete_vars = [\"age1\", \"age2\", \"eqpdays\", \"models\", \"phones\", \"actvsubs\"]\n",
    "train_data[discrete_vars], test_data[discrete_vars] = impute_train_test(train_data[discrete_vars], test_data[discrete_vars], is_discrete=True)\n",
    "\n",
    "discrete_vars = [\"first_city_code\", \"second_city_code\"]\n",
    "train_data[discrete_vars], test_data[discrete_vars] = impute_train_test(train_data[discrete_vars], test_data[discrete_vars], is_discrete=True, strategy='most_frequent')"
   ]
  },
  {
   "cell_type": "raw",
   "metadata": {
    "collapsed": false
   },
   "source": [
    "import warnings\n",
    "warnings.filterwarnings('ignore', category=DeprecationWarning)\n",
    "\n",
    "from sklearn.cluster import MiniBatchKMeans\n",
    "from sklearn.preprocessing import Normalizer\n",
    "\n",
    "total_clusters = 4\n",
    "# + [\"change_missing\", \"missing_mean_info\", \"age1_is_null\", \"age2_is_null\"]\n",
    "excluded_columns = ['customer', 'csa', 'churn', 'first_city_code', 'second_city_code', 'geo_number']\n",
    "non_null_predictors = [x for x in train_data.dropna(axis='columns').columns.tolist() if x not in excluded_columns]\n",
    "train_data, mbkm = add_cluster_feature(train_data, non_null_predictors, total_clusters)\n",
    "test_data, _ = add_cluster_feature(test_data, non_null_predictors, total_clusters, mbkm)\n",
    "#print(train_data.shape)\n",
    "for i in range(total_clusters):\n",
    "    print(\"Cluster\", i, \":\", (train_data['cluster'] == i).sum())\n",
    "    print(\"Churn:\", train_data[train_data.cluster == i].churn.sum())"
   ]
  },
  {
   "cell_type": "raw",
   "metadata": {
    "collapsed": true
   },
   "source": [
    "#Imputación por clusters\n",
    "\n",
    "from sklearn.preprocessing import Imputer\n",
    "\n",
    "continuous_vars = [\"changem\", \"changer\", \"directas\", \"mou\", \"overage\", \"recchrge\", \"roam\", \"revenue\"]\n",
    "discrete_vars = [\"age1\", \"age2\", \"eqpdays\", \"models\", \"phones\", \"first_city_code\", \"second_city_code\", \"actvsubs\"]\n",
    "\n",
    "for cc in range(total_clusters):\n",
    "    train_data.loc[train_data.cluster == cc, continuous_vars], test_data.loc[test_data.cluster == cc, continuous_vars] = \\\n",
    "        impute_train_test(train_data.loc[train_data.cluster == cc, continuous_vars], test_data.loc[test_data.cluster == cc, continuous_vars])\n",
    "\n",
    "    train_data.loc[train_data.cluster == cc, discrete_vars], test_data.loc[test_data.cluster == cc, discrete_vars] = \\\n",
    "        impute_train_test(train_data.loc[train_data.cluster == cc, discrete_vars], test_data.loc[test_data.cluster == cc, discrete_vars])"
   ]
  },
  {
   "cell_type": "raw",
   "metadata": {
    "collapsed": false
   },
   "source": [
    "#Imputación por classifier\n",
    "\n",
    "from sklearn.ensemble import AdaBoostRegressor\n",
    "\n",
    "non_null_predictors = [x for x in train_data.dropna(axis='columns').columns.tolist() if x not in ['customer', 'csa', 'churn']]\n",
    "continuous_vars = [\"changem\", \"changer\", \"directas\", \"mou\", \"overage\", \"recchrge\", \"roam\", \"revenue\"]\n",
    "discrete_vars = [\"age1\", \"age2\", \"eqpdays\", \"models\", \"phones\", \"actvsubs\"]\n",
    "\n",
    "for current_target in continuous_vars + discrete_vars:\n",
    "    print(\"Estimating for feature:\", current_target)\n",
    "    abc = AdaBoostRegressor(n_estimators = 100)\n",
    "    X_train, Y_train = train_data[train_data[current_target].notnull()][non_null_predictors],\\\n",
    "                       train_data[train_data[current_target].notnull()][current_target]\n",
    "    abc.fit(X_train, Y_train)\n",
    "    \n",
    "    X_target = train_data[train_data[current_target].isnull()][non_null_predictors]\n",
    "    predictions = abc.predict(X_target)\n",
    "    if current_target in continuous_vars:\n",
    "        train_data.loc[train_data[current_target].isnull(), current_target] = predictions\n",
    "    else:\n",
    "        train_data.loc[train_data[current_target].isnull(), current_target] = predictions.astype(int)\n",
    "    \n",
    "    X_test = test_data[test_data[current_target].isnull()][non_null_predictors]\n",
    "    if (X_test.shape[0] == 0):\n",
    "        continue\n",
    "        \n",
    "    test_predictions = abc.predict(X_test)\n",
    "    if current_target in continuous_vars:\n",
    "        test_data.loc[test_data[current_target].isnull(), current_target] = test_predictions\n",
    "    else:\n",
    "        test_data.loc[test_data[current_target].isnull(), current_target] = test_predictions.astype(int)"
   ]
  },
  {
   "cell_type": "code",
   "execution_count": 5,
   "metadata": {
    "collapsed": false
   },
   "outputs": [],
   "source": [
    "#Age ratio calculation\n",
    "\n",
    "train_data.loc[(train_data['age2'] != 0) & (train_data['age1'] != 0), 'age_ratio'] = \\\n",
    "    train_data.loc[(train_data['age2'] != 0) & (train_data['age1'] != 0), 'age1'] - train_data.loc[(train_data['age2'] != 0) & (train_data['age1'] != 0), 'age2']\n",
    "train_data.loc[(train_data['age2'] == 0) | (train_data['age1'] != 0), 'age_ratio'] = 0\n",
    "test_data.loc[(test_data['age2'] != 0) & (test_data['age1'] != 0), 'age_ratio'] = \\\n",
    "    test_data.loc[(test_data['age2'] != 0) & (test_data['age1'] != 0), 'age1'] / test_data.loc[(test_data['age2'] != 0) & (test_data['age1'] != 0), 'age2']\n",
    "test_data.loc[(test_data['age2'] == 0) | (test_data['age1'] != 0), 'age_ratio'] = 0\n",
    "predictors = predictors + ['age_ratio']\n",
    "\n",
    "#train_data.loc[(train_data['age2'] != 0) & (train_data['age1'] != 0), 'age_difference'] = \\\n",
    "#    train_data.loc[(train_data['age2'] != 0) & (train_data['age1'] != 0), 'age1'] / train_data.loc[(train_data['age2'] != 0) & (train_data['age1'] != 0), 'age2']\n",
    "#train_data.loc[(train_data['age2'] == 0) | (train_data['age1'] != 0), 'age_difference'] = 0\n",
    "#test_data.loc[(test_data['age2'] != 0) & (test_data['age1'] != 0), 'age_difference'] = \\\n",
    "#    test_data.loc[(test_data['age2'] != 0) & (test_data['age1'] != 0), 'age1'] - test_data.loc[(test_data['age2'] != 0) & (test_data['age1'] != 0), 'age2']\n",
    "#test_data.loc[(test_data['age2'] == 0) | (test_data['age1'] != 0), 'age_difference'] = 0\n",
    "#predictors = predictors + ['age_difference']"
   ]
  },
  {
   "cell_type": "code",
   "execution_count": 6,
   "metadata": {
    "collapsed": false
   },
   "outputs": [
    {
     "data": {
      "image/png": "[encoded data removed]",
      "text/plain": [
       "<matplotlib.figure.Figure at 0x19691c95630>"
      ]
     },
     "metadata": {},
     "output_type": "display_data"
    }
   ],
   "source": [
    "%matplotlib inline\n",
    "import matplotlib.pyplot as plt\n",
    "import numpy as np\n",
    "from sklearn.feature_selection import SelectKBest, f_classif\n",
    "from sklearn.ensemble import RandomForestClassifier\n",
    "\n",
    "# Perform feature selection\n",
    "#selector = SelectKBest(f_classif, k='all')\n",
    "#selector.fit(train_data[predictors], train_data[target_var])\n",
    "selector = RandomForestClassifier(n_estimators = 400, max_features= 'auto', min_samples_leaf = 2, n_jobs=-2)\n",
    "selector.fit(train_data[predictors], train_data[target_var])\n",
    "\n",
    "# Get the raw p-values for each feature, and transform from p-values into scores\n",
    "scores = selector.feature_importances_\n",
    "\n",
    "values = sorted(zip(predictors, scores), key=(lambda x: x[1]), reverse=True)\n",
    "\n",
    "fig, ax = plt.subplots()\n",
    "fig.set_size_inches(16, 12)\n",
    "ax.bar(range(len([x[0] for x in values])), [x[1] for x in values])\n",
    "plt.xticks(range(len([x[0] for x in values])), [x[0] for x in values], rotation='vertical')\n",
    "\n",
    "plt.show()"
   ]
  },
  {
   "cell_type": "raw",
   "metadata": {
    "collapsed": false,
    "scrolled": true
   },
   "source": [
    "import warnings\n",
    "warnings.filterwarnings('ignore', category=DeprecationWarning)\n",
    "\n",
    "from sklearn.cluster import MiniBatchKMeans\n",
    "from sklearn.preprocessing import Normalizer\n",
    "\n",
    "total_clusters = 4\n",
    "_, mbkm = add_cluster_feature(train_data, descriptors + [\"change_missing\", \"age1_is_null\", \"age2_is_null\", \"missing_mean_info\"], total_clusters)\n",
    "for i in range(total_clusters):\n",
    "    print(\"Cluster\", i, \":\", (train_data['cluster'] == i).sum())\n",
    "    print(\"Churn:\", train_data[train_data.cluster == i].churn.sum())"
   ]
  },
  {
   "cell_type": "code",
   "execution_count": 47,
   "metadata": {
    "collapsed": false
   },
   "outputs": [
    {
     "name": "stdout",
     "output_type": "stream",
     "text": [
      "Fitting estimator with 80 features.\n",
      "Fitting estimator with 79 features.\n",
      "Fitting estimator with 78 features.\n",
      "Fitting estimator with 77 features.\n",
      "Fitting estimator with 76 features.\n",
      "Fitting estimator with 75 features.\n",
      "Fitting estimator with 74 features.\n",
      "Fitting estimator with 73 features.\n",
      "Fitting estimator with 72 features.\n",
      "Fitting estimator with 71 features.\n",
      "Fitting estimator with 70 features.\n",
      "Fitting estimator with 69 features.\n",
      "Fitting estimator with 68 features.\n",
      "Fitting estimator with 67 features.\n",
      "Fitting estimator with 66 features.\n",
      "Fitting estimator with 65 features.\n",
      "Fitting estimator with 64 features.\n",
      "Fitting estimator with 63 features.\n",
      "Fitting estimator with 62 features.\n",
      "Fitting estimator with 61 features.\n",
      "Fitting estimator with 60 features.\n",
      "Fitting estimator with 59 features.\n",
      "Fitting estimator with 58 features.\n",
      "Fitting estimator with 57 features.\n",
      "Fitting estimator with 56 features.\n",
      "Fitting estimator with 55 features.\n",
      "Fitting estimator with 54 features.\n",
      "Fitting estimator with 53 features.\n",
      "Fitting estimator with 52 features.\n",
      "Fitting estimator with 51 features.\n",
      "Fitting estimator with 50 features.\n",
      "Fitting estimator with 49 features.\n",
      "Fitting estimator with 48 features.\n",
      "Fitting estimator with 47 features.\n",
      "Fitting estimator with 46 features.\n",
      "Fitting estimator with 45 features.\n",
      "Fitting estimator with 44 features.\n",
      "Fitting estimator with 43 features.\n",
      "Fitting estimator with 42 features.\n",
      "Fitting estimator with 41 features.\n",
      "Fitting estimator with 40 features.\n",
      "Fitting estimator with 39 features.\n",
      "Fitting estimator with 38 features.\n",
      "Fitting estimator with 37 features.\n",
      "Fitting estimator with 36 features.\n",
      "Fitting estimator with 35 features.\n",
      "Fitting estimator with 34 features.\n",
      "Fitting estimator with 33 features.\n",
      "Fitting estimator with 32 features.\n",
      "Fitting estimator with 31 features.\n",
      "Fitting estimator with 30 features.\n",
      "Fitting estimator with 29 features.\n",
      "Fitting estimator with 28 features.\n",
      "Fitting estimator with 27 features.\n",
      "Fitting estimator with 26 features.\n",
      "Fitting estimator with 25 features.\n",
      "Fitting estimator with 24 features.\n",
      "Fitting estimator with 23 features.\n",
      "Fitting estimator with 22 features.\n",
      "Fitting estimator with 21 features.\n",
      "Fitting estimator with 20 features.\n",
      "Fitting estimator with 19 features.\n",
      "Fitting estimator with 18 features.\n",
      "Fitting estimator with 17 features.\n",
      "Fitting estimator with 16 features.\n",
      "Fitting estimator with 15 features.\n",
      "Fitting estimator with 14 features.\n",
      "Fitting estimator with 13 features.\n",
      "Fitting estimator with 12 features.\n",
      "Fitting estimator with 11 features.\n",
      "Fitting estimator with 10 features.\n",
      "Fitting estimator with 9 features.\n",
      "Fitting estimator with 8 features.\n",
      "Fitting estimator with 7 features.\n",
      "Fitting estimator with 6 features.\n",
      "Fitting estimator with 5 features.\n",
      "Fitting estimator with 4 features.\n",
      "Fitting estimator with 3 features.\n",
      "Fitting estimator with 2 features.\n",
      "Fitting estimator with 80 features.\n",
      "Fitting estimator with 79 features.\n",
      "Fitting estimator with 78 features.\n",
      "Fitting estimator with 77 features.\n",
      "Fitting estimator with 76 features.\n",
      "Fitting estimator with 75 features.\n",
      "Fitting estimator with 74 features.\n",
      "Fitting estimator with 73 features.\n",
      "Fitting estimator with 72 features.\n",
      "Fitting estimator with 71 features.\n",
      "Fitting estimator with 70 features.\n",
      "Fitting estimator with 69 features.\n",
      "Fitting estimator with 68 features.\n",
      "Fitting estimator with 67 features.\n",
      "Fitting estimator with 66 features.\n",
      "Fitting estimator with 65 features.\n",
      "Fitting estimator with 64 features.\n",
      "Fitting estimator with 63 features.\n",
      "Fitting estimator with 62 features.\n",
      "Fitting estimator with 61 features.\n",
      "Fitting estimator with 60 features.\n",
      "Fitting estimator with 59 features.\n",
      "Fitting estimator with 58 features.\n",
      "Fitting estimator with 57 features.\n",
      "Fitting estimator with 56 features.\n",
      "Fitting estimator with 55 features.\n",
      "Fitting estimator with 54 features.\n",
      "Fitting estimator with 53 features.\n",
      "Fitting estimator with 52 features.\n",
      "Fitting estimator with 51 features.\n",
      "Fitting estimator with 50 features.\n",
      "Fitting estimator with 49 features.\n",
      "Fitting estimator with 48 features.\n",
      "Fitting estimator with 47 features.\n",
      "Fitting estimator with 46 features.\n",
      "Fitting estimator with 45 features.\n",
      "Fitting estimator with 44 features.\n",
      "Fitting estimator with 43 features.\n",
      "Fitting estimator with 42 features.\n",
      "Fitting estimator with 41 features.\n",
      "Fitting estimator with 40 features.\n",
      "Fitting estimator with 39 features.\n",
      "Fitting estimator with 38 features.\n",
      "Fitting estimator with 37 features.\n",
      "Fitting estimator with 36 features.\n",
      "Fitting estimator with 35 features.\n",
      "Fitting estimator with 34 features.\n",
      "Fitting estimator with 33 features.\n",
      "Fitting estimator with 32 features.\n",
      "Fitting estimator with 31 features.\n",
      "Fitting estimator with 30 features.\n",
      "Fitting estimator with 29 features.\n",
      "Fitting estimator with 28 features.\n",
      "Fitting estimator with 27 features.\n",
      "Fitting estimator with 26 features.\n",
      "Fitting estimator with 25 features.\n",
      "Fitting estimator with 24 features.\n",
      "Fitting estimator with 23 features.\n",
      "Fitting estimator with 22 features.\n",
      "Fitting estimator with 21 features.\n",
      "Fitting estimator with 20 features.\n",
      "Fitting estimator with 19 features.\n",
      "Fitting estimator with 18 features.\n",
      "Fitting estimator with 17 features.\n",
      "Fitting estimator with 16 features.\n",
      "Fitting estimator with 15 features.\n",
      "Fitting estimator with 14 features.\n",
      "Fitting estimator with 13 features.\n",
      "Fitting estimator with 12 features.\n",
      "Fitting estimator with 11 features.\n",
      "Fitting estimator with 10 features.\n",
      "Fitting estimator with 9 features.\n",
      "Fitting estimator with 8 features.\n",
      "Fitting estimator with 7 features.\n",
      "Fitting estimator with 6 features.\n",
      "Fitting estimator with 5 features.\n",
      "Fitting estimator with 4 features.\n",
      "Fitting estimator with 3 features.\n",
      "Fitting estimator with 2 features.\n",
      "Optimal number of features : 56\n"
     ]
    },
    {
     "data": {
      "image/png": "[encoded data removed]",
      "text/plain": [
       "<matplotlib.figure.Figure at 0x19698013ba8>"
      ]
     },
     "metadata": {},
     "output_type": "display_data"
    },
    {
     "data": {
      "text/plain": [
       "['revenue',\n",
       " 'mou',\n",
       " 'recchrge',\n",
       " 'directas',\n",
       " 'overage',\n",
       " 'roam',\n",
       " 'changem',\n",
       " 'changer',\n",
       " 'dropvce',\n",
       " 'blckvce',\n",
       " 'unansvce',\n",
       " 'custcare',\n",
       " 'threeway',\n",
       " 'mourec',\n",
       " 'outcalls',\n",
       " 'incalls',\n",
       " 'peakvce',\n",
       " 'opeakvce',\n",
       " 'dropblk',\n",
       " 'callfwdv',\n",
       " 'callwait',\n",
       " 'months',\n",
       " 'uniqsubs',\n",
       " 'phones',\n",
       " 'eqpdays',\n",
       " 'age1',\n",
       " 'age2',\n",
       " 'creditaa',\n",
       " 'creditb',\n",
       " 'creditde',\n",
       " 'creditgy',\n",
       " 'refurb',\n",
       " 'webcap',\n",
       " 'truck',\n",
       " 'rv',\n",
       " 'occstud',\n",
       " 'occhmkr',\n",
       " 'occret',\n",
       " 'ownrent',\n",
       " 'marryun',\n",
       " 'mailres',\n",
       " 'pcown',\n",
       " 'retcalls',\n",
       " 'newcelln',\n",
       " 'refer',\n",
       " 'income',\n",
       " 'mcycle',\n",
       " 'creditad',\n",
       " 'setprcm',\n",
       " 'setprc',\n",
       " 'retcall',\n",
       " 'change_missing',\n",
       " 'missing_mean_info',\n",
       " 'age2_is_null',\n",
       " 'first_city_code',\n",
       " 'second_city_code']"
      ]
     },
     "execution_count": 47,
     "metadata": {},
     "output_type": "execute_result"
    }
   ],
   "source": [
    "#Feature Selection\n",
    "\n",
    "%matplotlib inline\n",
    "import matplotlib\n",
    "matplotlib.rcParams['figure.figsize'] = (12.0, 8.0)\n",
    "\n",
    "import matplotlib.pyplot as plt\n",
    "from sklearn.svm import SVC\n",
    "from sklearn.cross_validation import StratifiedKFold\n",
    "from sklearn.feature_selection import RFECV\n",
    "from sklearn.datasets import make_classification\n",
    "from sklearn.ensemble import ExtraTreesClassifier\n",
    "from sklearn.ensemble import GradientBoostingClassifier\n",
    "\n",
    "# The \"accuracy\" scoring is proportional to the number of correct\n",
    "# classifications\n",
    "rfecv = RFECV(estimator=GradientBoostingClassifier(n_estimators=64, max_features= 0.4, min_samples_split= 4), step=1, cv=StratifiedKFold(y, 2),\n",
    "              scoring='roc_auc', verbose=2)\n",
    "\n",
    "X = train_data[predictors]\n",
    "y = train_data[target_var]\n",
    "rfecv.fit(X, y)\n",
    "\n",
    "print(\"Optimal number of features : %d\" % rfecv.n_features_)\n",
    "\n",
    "# Plot number of features VS. cross-validation scores\n",
    "plt.figure()\n",
    "plt.xlabel(\"Number of features selected\")\n",
    "plt.ylabel(\"Cross validation score (nb of correct classifications)\")\n",
    "plt.plot(range(1, len(rfecv.grid_scores_) + 1), rfecv.grid_scores_)\n",
    "plt.show()\n",
    "\n",
    "results = sorted(zip(predictors, rfecv.support_, rfecv.ranking_), key= lambda x: x[2])\n",
    "\n",
    "#print('\\r\\n'.join([str(r) for r in results]))\n",
    "\n",
    "column_filter = zip(train_data[predictors].columns, rfecv.support_)\n",
    "selected_columns = [col[0] for col in column_filter if col[1]]\n",
    "X = train_data[selected_columns]\n",
    "selected_columns"
   ]
  },
  {
   "cell_type": "code",
   "execution_count": 6,
   "metadata": {
    "collapsed": false
   },
   "outputs": [
    {
     "name": "stderr",
     "output_type": "stream",
     "text": [
      "C:\\Users\\Kenji\\Anaconda2\\envs\\python3\\lib\\site-packages\\sklearn\\feature_selection\\univariate_selection.py:113: UserWarning: Features [80] are constant.\n",
      "  UserWarning)\n"
     ]
    },
    {
     "data": {
      "image/png": "[encoded data removed]",
      "text/plain": [
       "<matplotlib.figure.Figure at 0x1db26bba0f0>"
      ]
     },
     "metadata": {},
     "output_type": "display_data"
    }
   ],
   "source": [
    "%matplotlib inline\n",
    "import matplotlib.pyplot as plt\n",
    "import numpy as np\n",
    "from sklearn.feature_selection import SelectKBest, f_classif\n",
    "from sklearn.ensemble import GradientBoostingClassifier\n",
    "from sklearn.feature_selection import SelectKBest, f_classif\n",
    "\n",
    "# Perform feature selection\n",
    "selector = SelectKBest(f_classif, k='all')\n",
    "selector.fit(train_data[predictors], train_data[target_var])\n",
    "\n",
    "# Get the raw p-values for each feature, and transform from p-values into scores\n",
    "scores = selector.scores_\n",
    "\n",
    "values = sorted(zip(predictors, scores), key=(lambda x: x[1]), reverse=True)\n",
    "\n",
    "fig, ax = plt.subplots()\n",
    "fig.set_size_inches(16, 12)\n",
    "ax.bar(range(len([x[0] for x in values])), [x[1] for x in values])\n",
    "plt.xticks(range(len([x[0] for x in values])), [x[0] for x in values], rotation='vertical')\n",
    "\n",
    "plt.show()"
   ]
  },
  {
   "cell_type": "code",
   "execution_count": 15,
   "metadata": {
    "collapsed": false
   },
   "outputs": [
    {
     "data": {
      "text/plain": [
       "['eqpdays',\n",
       " 'webcap',\n",
       " 'change_missing',\n",
       " 'retcalls',\n",
       " 'retcall',\n",
       " 'recchrge',\n",
       " 'mou',\n",
       " 'opeakvce',\n",
       " 'missing_mean_info',\n",
       " 'creditde',\n",
       " 'peakvce',\n",
       " 'incalls',\n",
       " 'unansvce',\n",
       " 'outcalls',\n",
       " 'retaccpt',\n",
       " 'age2_is_null',\n",
       " 'mourec',\n",
       " 'uniqsubs',\n",
       " 'marryun',\n",
       " 'custcare',\n",
       " 'models',\n",
       " 'age1',\n",
       " 'months',\n",
       " 'changem',\n",
       " 'occstud',\n",
       " 'setprc',\n",
       " 'callwait',\n",
       " 'refurb',\n",
       " 'creditb',\n",
       " 'newcelln',\n",
       " 'mailres',\n",
       " 'marryno',\n",
       " 'credita',\n",
       " 'mailord',\n",
       " 'phones',\n",
       " 'incmiss',\n",
       " 'prizmtwn',\n",
       " 'creditgy',\n",
       " 'occhmkr',\n",
       " 'setprcm',\n",
       " 'directas',\n",
       " 'newcelly',\n",
       " 'children',\n",
       " 'age1_is_null',\n",
       " 'second_city_code',\n",
       " 'refer',\n",
       " 'creditcd',\n",
       " 'creditad',\n",
       " 'revenue',\n",
       " 'ownrent',\n",
       " 'marryyes',\n",
       " 'actvsubs_missing',\n",
       " 'dropblk',\n",
       " 'income',\n",
       " 'mailflag',\n",
       " 'occprof',\n",
       " 'blckvce',\n",
       " 'overage',\n",
       " 'occself']"
      ]
     },
     "execution_count": 15,
     "metadata": {},
     "output_type": "execute_result"
    }
   ],
   "source": [
    "selected_columns = [x[0] for x in values if x[1] > 0.5]\n",
    "selected_columns"
   ]
  },
  {
   "cell_type": "raw",
   "metadata": {
    "collapsed": false
   },
   "source": [
    "#Feature Selection\n",
    "\n",
    "%matplotlib inline\n",
    "\n",
    "import matplotlib.pyplot as plt\n",
    "from sklearn.svm import SVC\n",
    "from sklearn.cross_validation import StratifiedKFold\n",
    "from sklearn.feature_selection import RFECV\n",
    "from sklearn.datasets import make_classification\n",
    "from sklearn.ensemble import ExtraTreesClassifier\n",
    "from sklearn.ensemble import GradientBoostingClassifier\n",
    "\n",
    "# The \"accuracy\" scoring is proportional to the number of correct\n",
    "# classifications\n",
    "\n",
    "\n",
    "rfecv = RFECV(estimator=GradientBoostingClassifier(n_estimators=200, max_features= 0.4), step=1, cv=StratifiedKFold(train_data[target_var], 2),\n",
    "              scoring='roc_auc', verbose=2)\n",
    "\n",
    "#X = train_data[predictors]\n",
    "pca = PCA()\n",
    "X = pca.fit_transform(train_data[predictors])\n",
    "y = train_data[target_var]\n",
    "rfecv.fit(X, y)\n",
    "\n",
    "print(\"Optimal number of features : %d\" % rfecv.n_features_)\n",
    "\n",
    "# Plot number of features VS. cross-validation scores\n",
    "plt.figure()\n",
    "plt.xlabel(\"Number of features selected\")\n",
    "plt.ylabel(\"Cross validation score (nb of correct classifications)\")\n",
    "plt.plot(range(1, len(rfecv.grid_scores_) + 1), rfecv.grid_scores_)\n",
    "plt.show()\n",
    "\n",
    "results = sorted(zip(predictors, rfecv.support_, rfecv.ranking_), key= lambda x: x[2])\n",
    "\n",
    "#print('\\r\\n'.join([str(r) for r in results]))\n",
    "\n",
    "column_filter = zip(train_data[predictors].columns, rfecv.support_)\n",
    "selected_columns = [col[0] for col in column_filter if col[1]]\n",
    "X = train_data[selected_columns]\n",
    "selected_columns"
   ]
  },
  {
   "cell_type": "code",
   "execution_count": 77,
   "metadata": {
    "collapsed": false
   },
   "outputs": [
    {
     "name": "stdout",
     "output_type": "stream",
     "text": [
      "Now testing rfc\n",
      "Preparing to fit\n",
      "Fitting 10 folds for each of 32 candidates, totalling 320 fits\n"
     ]
    },
    {
     "name": "stderr",
     "output_type": "stream",
     "text": [
      "[Parallel(n_jobs=-2)]: Done  27 tasks      | elapsed:  7.6min\n",
      "[Parallel(n_jobs=-2)]: Done 148 tasks      | elapsed: 38.4min\n",
      "[Parallel(n_jobs=-2)]: Done 320 out of 320 | elapsed: 72.2min finished\n"
     ]
    },
    {
     "name": "stdout",
     "output_type": "stream",
     "text": [
      "Fitting completed\n",
      "Best parameters set found on development set:\n",
      "{'rfc__min_samples_split': 1, 'rfc__min_samples_leaf': 4, 'rfc__class_weight': None}\n",
      "Best score set found on development set:\n",
      "0.647381228522\n",
      "Grid scores on development set:\r\n",
      "\n",
      "0.613 (+/-0.048) for {'rfc__min_samples_split': 1, 'rfc__min_samples_leaf': 1, 'rfc__class_weight': None}\n",
      "0.625 (+/-0.044) for {'rfc__min_samples_split': 2, 'rfc__min_samples_leaf': 1, 'rfc__class_weight': None}\n",
      "0.622 (+/-0.038) for {'rfc__min_samples_split': 3, 'rfc__min_samples_leaf': 1, 'rfc__class_weight': None}\n",
      "0.623 (+/-0.047) for {'rfc__min_samples_split': 4, 'rfc__min_samples_leaf': 1, 'rfc__class_weight': None}\n",
      "0.625 (+/-0.043) for {'rfc__min_samples_split': 1, 'rfc__min_samples_leaf': 2, 'rfc__class_weight': None}\n",
      "0.628 (+/-0.051) for {'rfc__min_samples_split': 2, 'rfc__min_samples_leaf': 2, 'rfc__class_weight': None}\n",
      "0.612 (+/-0.042) for {'rfc__min_samples_split': 3, 'rfc__class_weight': None, 'rfc__min_samples_leaf': 2}\n",
      "0.625 (+/-0.061) for {'rfc__min_samples_split': 4, 'rfc__min_samples_leaf': 2, 'rfc__class_weight': None}\n",
      "0.636 (+/-0.039) for {'rfc__min_samples_split': 1, 'rfc__min_samples_leaf': 3, 'rfc__class_weight': None}\n",
      "0.632 (+/-0.048) for {'rfc__min_samples_split': 2, 'rfc__class_weight': None, 'rfc__min_samples_leaf': 3}\n",
      "0.624 (+/-0.043) for {'rfc__min_samples_split': 3, 'rfc__min_samples_leaf': 3, 'rfc__class_weight': None}\n",
      "0.632 (+/-0.039) for {'rfc__min_samples_split': 4, 'rfc__min_samples_leaf': 3, 'rfc__class_weight': None}\n",
      "0.647 (+/-0.045) for {'rfc__min_samples_split': 1, 'rfc__min_samples_leaf': 4, 'rfc__class_weight': None}\n",
      "0.640 (+/-0.045) for {'rfc__min_samples_split': 2, 'rfc__min_samples_leaf': 4, 'rfc__class_weight': None}\n",
      "0.632 (+/-0.034) for {'rfc__min_samples_split': 3, 'rfc__min_samples_leaf': 4, 'rfc__class_weight': None}\n",
      "0.637 (+/-0.045) for {'rfc__min_samples_split': 4, 'rfc__class_weight': None, 'rfc__min_samples_leaf': 4}\n",
      "0.616 (+/-0.041) for {'rfc__min_samples_split': 1, 'rfc__min_samples_leaf': 1, 'rfc__class_weight': 'balanced'}\n",
      "0.624 (+/-0.048) for {'rfc__min_samples_split': 2, 'rfc__min_samples_leaf': 1, 'rfc__class_weight': 'balanced'}\n",
      "0.630 (+/-0.049) for {'rfc__min_samples_split': 3, 'rfc__min_samples_leaf': 1, 'rfc__class_weight': 'balanced'}\n",
      "0.628 (+/-0.048) for {'rfc__min_samples_split': 4, 'rfc__min_samples_leaf': 1, 'rfc__class_weight': 'balanced'}\n",
      "0.640 (+/-0.041) for {'rfc__min_samples_split': 1, 'rfc__min_samples_leaf': 2, 'rfc__class_weight': 'balanced'}\n",
      "0.628 (+/-0.054) for {'rfc__min_samples_split': 2, 'rfc__class_weight': 'balanced', 'rfc__min_samples_leaf': 2}\n",
      "0.627 (+/-0.056) for {'rfc__min_samples_split': 3, 'rfc__class_weight': 'balanced', 'rfc__min_samples_leaf': 2}\n",
      "0.632 (+/-0.044) for {'rfc__min_samples_split': 4, 'rfc__min_samples_leaf': 2, 'rfc__class_weight': 'balanced'}\n",
      "0.619 (+/-0.046) for {'rfc__min_samples_split': 1, 'rfc__min_samples_leaf': 3, 'rfc__class_weight': 'balanced'}\n",
      "0.628 (+/-0.028) for {'rfc__min_samples_split': 2, 'rfc__min_samples_leaf': 3, 'rfc__class_weight': 'balanced'}\n",
      "0.632 (+/-0.027) for {'rfc__min_samples_split': 3, 'rfc__class_weight': 'balanced', 'rfc__min_samples_leaf': 3}\n",
      "0.630 (+/-0.036) for {'rfc__min_samples_split': 4, 'rfc__min_samples_leaf': 3, 'rfc__class_weight': 'balanced'}\n",
      "0.646 (+/-0.048) for {'rfc__min_samples_split': 1, 'rfc__min_samples_leaf': 4, 'rfc__class_weight': 'balanced'}\n",
      "0.623 (+/-0.052) for {'rfc__min_samples_split': 2, 'rfc__class_weight': 'balanced', 'rfc__min_samples_leaf': 4}\n",
      "0.638 (+/-0.031) for {'rfc__min_samples_split': 3, 'rfc__min_samples_leaf': 4, 'rfc__class_weight': 'balanced'}\n",
      "0.627 (+/-0.037) for {'rfc__min_samples_split': 4, 'rfc__min_samples_leaf': 4, 'rfc__class_weight': 'balanced'}\n",
      "\n",
      "Now testing abc\n",
      "Preparing to fit\n",
      "Fitting 10 folds for each of 5 candidates, totalling 50 fits\n"
     ]
    },
    {
     "name": "stderr",
     "output_type": "stream",
     "text": [
      "[Parallel(n_jobs=-2)]: Done  27 tasks      | elapsed:  6.2min\n",
      "[Parallel(n_jobs=-2)]: Done  50 out of  50 | elapsed: 11.1min finished\n"
     ]
    },
    {
     "name": "stdout",
     "output_type": "stream",
     "text": [
      "Fitting completed\n",
      "Best parameters set found on development set:\n",
      "{'abc__learning_rate': 0.5}\n",
      "Best score set found on development set:\n",
      "0.645297895189\n",
      "Grid scores on development set:\r\n",
      "\n",
      "0.645 (+/-0.062) for {'abc__learning_rate': 0.5}\n",
      "0.628 (+/-0.074) for {'abc__learning_rate': 0.6}\n",
      "0.634 (+/-0.041) for {'abc__learning_rate': 0.7}\n",
      "0.631 (+/-0.058) for {'abc__learning_rate': 0.8}\n",
      "0.627 (+/-0.053) for {'abc__learning_rate': 0.9}\n",
      "\n",
      "Now testing gbc\n",
      "Preparing to fit\n",
      "Fitting 10 folds for each of 16 candidates, totalling 160 fits\n"
     ]
    },
    {
     "name": "stderr",
     "output_type": "stream",
     "text": [
      "[Parallel(n_jobs=-2)]: Done  27 tasks      | elapsed: 13.0min\n",
      "[Parallel(n_jobs=-2)]: Done 160 out of 160 | elapsed: 42.1min finished\n"
     ]
    },
    {
     "name": "stdout",
     "output_type": "stream",
     "text": [
      "Fitting completed\n",
      "Best parameters set found on development set:\n",
      "{'gbc__max_features': 0.4, 'gbc__min_samples_split': 2}\n",
      "Best score set found on development set:\n",
      "0.643216709622\n",
      "Grid scores on development set:\r\n",
      "\n",
      "0.635 (+/-0.065) for {'gbc__max_features': 'auto', 'gbc__min_samples_split': 1}\n",
      "0.643 (+/-0.038) for {'gbc__max_features': 'auto', 'gbc__min_samples_split': 2}\n",
      "0.640 (+/-0.019) for {'gbc__max_features': 'auto', 'gbc__min_samples_split': 3}\n",
      "0.640 (+/-0.046) for {'gbc__max_features': 'auto', 'gbc__min_samples_split': 4}\n",
      "0.629 (+/-0.042) for {'gbc__max_features': 0.3, 'gbc__min_samples_split': 1}\n",
      "0.635 (+/-0.057) for {'gbc__max_features': 0.3, 'gbc__min_samples_split': 2}\n",
      "0.638 (+/-0.043) for {'gbc__max_features': 0.3, 'gbc__min_samples_split': 3}\n",
      "0.627 (+/-0.049) for {'gbc__max_features': 0.3, 'gbc__min_samples_split': 4}\n",
      "0.632 (+/-0.040) for {'gbc__max_features': 0.4, 'gbc__min_samples_split': 1}\n",
      "0.643 (+/-0.036) for {'gbc__max_features': 0.4, 'gbc__min_samples_split': 2}\n",
      "0.637 (+/-0.047) for {'gbc__max_features': 0.4, 'gbc__min_samples_split': 3}\n",
      "0.634 (+/-0.051) for {'gbc__max_features': 0.4, 'gbc__min_samples_split': 4}\n",
      "0.636 (+/-0.061) for {'gbc__max_features': 0.5, 'gbc__min_samples_split': 1}\n",
      "0.633 (+/-0.056) for {'gbc__max_features': 0.5, 'gbc__min_samples_split': 2}\n",
      "0.624 (+/-0.035) for {'gbc__max_features': 0.5, 'gbc__min_samples_split': 3}\n",
      "0.634 (+/-0.059) for {'gbc__max_features': 0.5, 'gbc__min_samples_split': 4}\n",
      "\n"
     ]
    }
   ],
   "source": [
    "from sklearn.svm import SVC\n",
    "from sklearn.ensemble import RandomForestClassifier\n",
    "from sklearn.ensemble import AdaBoostClassifier\n",
    "from sklearn.ensemble import GradientBoostingClassifier\n",
    "from sklearn.ensemble import ExtraTreesClassifier\n",
    "from sklearn.preprocessing import Normalizer\n",
    "from sklearn.feature_selection import SelectFromModel\n",
    "from sklearn.cross_validation import StratifiedShuffleSplit\n",
    "\n",
    "from sklearn.decomposition import PCA\n",
    "\n",
    "params = [#[{'reduce_dim__whiten': [True],\n",
    "          #  'reduce_dim__n_components': [None, 47],\n",
    "          #  'svm__C': [0.1, 1, 10, 100], \n",
    "          #  'svm__gamma': [1, 0.1, 0.01, 0.001]}], #svm pbf\n",
    "          #[{'reduce_dim__whiten': [True],\n",
    "          #  'reduce_dim__n_components': [None, 47],\n",
    "          #  'lin_svm__C': [0.1, 1, 10, 100], \n",
    "          #  'lin_svm__gamma': [1, 0.1, 0.01, 0.001]}], #svm linear\n",
    "          #[{#'reduce_dim__whiten': [False],\n",
    "          #  'etc__min_samples_split': [1, 2, 3, 4], \n",
    "          #  'etc__min_samples_leaf': [1, 2, 3, 4], \n",
    "          #  'etc__class_weight': [None, 'balanced']}], #Extra Trees Classifier\n",
    "          [{#'reduce_dim__whiten': [False],\n",
    "            'rfc__min_samples_split': [1, 2, 3, 4], \n",
    "            'rfc__min_samples_leaf': [1, 2, 3, 4], \n",
    "            'rfc__class_weight': [None, 'balanced']}], #random forest\n",
    "          [{#'reduce_dim__whiten': [False],\n",
    "            'abc__learning_rate': [0.5, 0.6, 0.7, 0.8, 0.9]}],\n",
    "          [{#'reduce_dim__whiten': [False],\n",
    "            'gbc__min_samples_split': [1, 2, 3, 4],\n",
    "            'gbc__max_features': ['auto', 0.3, 0.4, 0.5]}]\n",
    "         ]\n",
    "\n",
    "classifiers = [#[#('feature_selection', SelectFromModel(ExtraTreesClassifier(n_estimators=100))),\n",
    "                #('normalize', Normalizer()),\n",
    "                #('svm', SVC(cache_size = 300))],\n",
    "               #[('feature_selection', SelectFromModel(ExtraTreesClassifier(n_estimators=100))), \n",
    "                #('normalize', Normalizer()), \n",
    "                #('lin_svm', SVC(kernel='linear', cache_size = 500))],\n",
    "               #[('etc', ExtraTreesClassifier(n_estimators = 700))],\n",
    "               [('rfc', RandomForestClassifier(n_estimators = 500, random_state=1))],\n",
    "               [('abc', AdaBoostClassifier(n_estimators = 500, random_state=1))],\n",
    "               [('gbc', GradientBoostingClassifier(n_estimators = 500, random_state=1))]\n",
    "              ]\n",
    "#preliminary_steps = [('reduce_dim', PCA()), ('normalize', Normalizer())]\n",
    "#preliminary_steps = [('reduce_dim', PCA())]\n",
    "preliminary_steps = []\n",
    "grids = grid_search_multiple(train_data[predictors], train_data[target_var], \n",
    "                             classifiers, params, preliminary_steps, \n",
    "                             scoring='roc_auc',\n",
    "                             cv=StratifiedShuffleSplit(train_data[target_var], n_iter=10, test_size=0.1),\n",
    "                             n_jobs=-2,\n",
    "                             verbose=1)"
   ]
  },
  {
   "cell_type": "raw",
   "metadata": {
    "collapsed": false
   },
   "source": [
    "from sklearn.svm import SVC\n",
    "from sklearn.ensemble import RandomForestClassifier\n",
    "from sklearn.ensemble import AdaBoostClassifier\n",
    "from sklearn.ensemble import GradientBoostingClassifier\n",
    "from sklearn.ensemble import ExtraTreesClassifier\n",
    "from sklearn.preprocessing import Normalizer\n",
    "from sklearn.feature_selection import SelectFromModel\n",
    "from sklearn.cross_validation import StratifiedShuffleSplit\n",
    "\n",
    "from sklearn.decomposition import PCA\n",
    "\n",
    "params = [\n",
    "          [{'rfc__n_estimators': [300, 400, 500, 600, 700, 800]}], #random forest\n",
    "          [{'abc__n_estimators': [300, 400, 500, 600, 700, 800]}],\n",
    "          [{'gbc__n_estimators': [300, 400, 500, 600, 700, 800]}]\n",
    "         ]\n",
    "\n",
    "classifiers = [\n",
    "               [('rfc', RandomForestClassifier(class_weight= 'balanced', min_samples_split= 2, min_samples_leaf= 2, random_state=1))],\n",
    "               [('abc', AdaBoostClassifier(learning_rate= 0.9, random_state=1))],\n",
    "               [('gbc', GradientBoostingClassifier(max_features= 0.4, min_samples_split= 4, random_state=1))]\n",
    "              ]\n",
    "#preliminary_steps = [('reduce_dim', PCA()), ('normalize', Normalizer())]\n",
    "#preliminary_steps = [('reduce_dim', PCA())]\n",
    "preliminary_steps = []\n",
    "\n",
    "grids = grid_search_multiple(train_data[selected_columns + ['cluster']], train_data[target_var], \n",
    "                     classifiers, parameters, preliminary_steps, \n",
    "                     scoring='roc_auc',\n",
    "                     cv=StratifiedShuffleSplit(train_data[target_var], n_iter=8, test_size=0.1),\n",
    "                     n_jobs=-2,\n",
    "                     verbose=1):"
   ]
  },
  {
   "cell_type": "raw",
   "metadata": {
    "collapsed": false
   },
   "source": [
    "import numpy as np\n",
    "from sklearn.pipeline import Pipeline\n",
    "from sklearn.grid_search import GridSearchCV\n",
    "from sklearn.svm import SVC\n",
    "from sklearn.ensemble import RandomForestClassifier\n",
    "from sklearn.ensemble import AdaBoostClassifier\n",
    "from sklearn.ensemble import GradientBoostingClassifier\n",
    "from sklearn.ensemble import ExtraTreesClassifier\n",
    "from sklearn.ensemble import VotingClassifier\n",
    "from sklearn.preprocessing import StandardScaler\n",
    "from sklearn.feature_selection import SelectFromModel\n",
    "from sklearn.cross_validation import StratifiedShuffleSplit\n",
    "from sklearn.metrics import roc_auc_score\n",
    "\n",
    "from sklearn.decomposition import PCA\n",
    "\n",
    "classifiers = [\n",
    "               ('rfc', RandomForestClassifier(n_estimators = 500, class_weight= 'balanced', min_samples_split= 3, min_samples_leaf= 3, n_jobs = -2, random_state=1)),\n",
    "               ('abc', AdaBoostClassifier(n_estimators = 500, learning_rate= 0.8, random_state=1)),\n",
    "               ('gbc', GradientBoostingClassifier(n_estimators = 500, random_state=1))\n",
    "              ]\n",
    "\n",
    "\n",
    "skf = StratifiedShuffleSplit(train_data[target_var])\n",
    "\n",
    "X_trainP, Y_trainP = train_data[business_vars].copy(), train_data[target_var].copy()\n",
    "\n",
    "scores = []\n",
    "for i, (train_index, test_index) in enumerate(skf):\n",
    "    print (\"Fold #%d\" % (i+1))\n",
    "    X_train, X_test = X_trainP.iloc[train_index], X_trainP.iloc[test_index]\n",
    "    y_train, y_test = Y_trainP.iloc[train_index], Y_trainP.iloc[test_index]\n",
    "    \n",
    "    mbkm = MiniBatchKMeans(n_clusters=total_clusters, verbose=0, reassignment_ratio=0.7, n_init=40)\n",
    "    mbkm.fit(X_train)\n",
    "    X_train['cluster'] = mbkm.predict(X_train)\n",
    "    X_test['cluster'] = mbkm.predict(X_test)\n",
    "    \n",
    "    cluster_clfs = list()\n",
    "    predicted = None\n",
    "    real = None\n",
    "    for cluster in range(total_clusters):\n",
    "        print('Fitting on cluster', cluster)\n",
    "        X = X_train.loc[X_train['cluster'] == cluster] \n",
    "        y = y_train.loc[X_train['cluster'] == cluster]\n",
    "\n",
    "        clf = VotingClassifier(estimators=classifiers, voting='soft')\n",
    "        clf.fit(X, y)\n",
    "\n",
    "        cluster_clfs.append(clf)\n",
    "        curr_prediction = clf.predict_proba(X_test)\n",
    "        if predicted is not None:\n",
    "            np.concatenate((predicted, curr_prediction), axis=0)\n",
    "        else:\n",
    "            predicted = curr_prediction\n",
    "            \n",
    "        if real is not None:\n",
    "            np.concatenate((real, y_test), axis=0)\n",
    "        else:\n",
    "            real = y_test\n",
    "        \n",
    "    score = roc_auc_score(real, predicted[:, 1])\n",
    "    print (\"Score = %0.3f\" % score)\n",
    "    scores.append(score)\n",
    "    \n",
    "mean_score = np.mean(scores)\n",
    "print(\"%0.3f (+/-%0.03f)\" % (mean_score, np.std(scores) * 2))"
   ]
  },
  {
   "cell_type": "code",
   "execution_count": 16,
   "metadata": {
    "collapsed": false
   },
   "outputs": [
    {
     "name": "stdout",
     "output_type": "stream",
     "text": [
      "Now testing vtc\n",
      "Preparing to fit\n",
      "Fitting 6 folds for each of 1 candidates, totalling 6 fits\n"
     ]
    },
    {
     "name": "stderr",
     "output_type": "stream",
     "text": [
      "[Parallel(n_jobs=-2)]: Done   6 out of   6 | elapsed:  1.1min finished\n"
     ]
    },
    {
     "name": "stdout",
     "output_type": "stream",
     "text": [
      "Fitting completed\n",
      "Best parameters set found on development set:\n",
      "{'vtc__voting': 'soft'}\n",
      "Best score set found on development set:\n",
      "0.628053407789\n",
      "Grid scores on development set:\r\n",
      "\n",
      "0.628 (+/-0.044) for {'vtc__voting': 'soft'}\n",
      "\n"
     ]
    }
   ],
   "source": [
    "from sklearn.pipeline import Pipeline\n",
    "from sklearn.grid_search import GridSearchCV\n",
    "from sklearn.svm import SVC\n",
    "from sklearn.ensemble import RandomForestClassifier\n",
    "from sklearn.ensemble import AdaBoostClassifier\n",
    "from sklearn.ensemble import GradientBoostingClassifier\n",
    "from sklearn.ensemble import ExtraTreesClassifier\n",
    "from sklearn.ensemble import VotingClassifier\n",
    "from sklearn.preprocessing import StandardScaler\n",
    "from sklearn.feature_selection import SelectFromModel\n",
    "from sklearn.cross_validation import StratifiedShuffleSplit\n",
    "\n",
    "from sklearn.decomposition import PCA\n",
    "\n",
    "def add_cluster_feature(df, features, total_clusters, imputer_mbkm = None):\n",
    "    normalizer = Normalizer()\n",
    "    \n",
    "    if imputer_mbkm is None:\n",
    "        mbkm = MiniBatchKMeans(n_clusters=total_clusters, verbose=0, reassignment_ratio=0.3, n_init=40)\n",
    "        normalized_train = normalizer.fit_transform(df[features])\n",
    "        mbkm.fit(normalized_train)\n",
    "    else:\n",
    "        mbkm = imputer_mbkm\n",
    "        \n",
    "    normalized_df = normalizer.fit_transform(df[features])\n",
    "    cluster_prediction = mbkm.predict(normalized_df)\n",
    "    df['cluster'] = cluster_prediction\n",
    "    return df, mbkm\n",
    "\n",
    "classifiers = [\n",
    "               ('rfc', RandomForestClassifier(n_estimators=200)),\n",
    "               ('abc', AdaBoostClassifier()),\n",
    "               ('gbc', GradientBoostingClassifier())\n",
    "              ]\n",
    "\n",
    "#X = train_data[selected_columns + ['cluster']] \n",
    "#X = train_data[business_vars + ['cluster']]\n",
    "\n",
    "params = [{'vtc__voting': ['soft']}]\n",
    "preliminary_steps = []\n",
    "\n",
    "clf = VotingClassifier(estimators=classifiers)\n",
    "grids = grid_search_multiple(train_data[selected_columns], train_data[target_var], \n",
    "                             algorithms=[[('vtc', clf)]], parameters=params, preliminary_steps=preliminary_steps,\n",
    "                             cv=StratifiedShuffleSplit(train_data[target_var], n_iter=6, test_size=0.1),\n",
    "                             n_jobs=-2,\n",
    "                             verbose=1)"
   ]
  },
  {
   "cell_type": "code",
   "execution_count": 82,
   "metadata": {
    "collapsed": false
   },
   "outputs": [
    {
     "name": "stdout",
     "output_type": "stream",
     "text": [
      "Now testing vtc\n",
      "Preparing to fit\n",
      "Fitting 6 folds for each of 1 candidates, totalling 6 fits\n"
     ]
    },
    {
     "name": "stderr",
     "output_type": "stream",
     "text": [
      "[Parallel(n_jobs=-2)]: Done   6 out of   6 | elapsed:  3.8min finished\n"
     ]
    },
    {
     "name": "stdout",
     "output_type": "stream",
     "text": [
      "Fitting completed\n",
      "Best parameters set found on development set:\n",
      "{'vtc__voting': 'soft'}\n",
      "Best score set found on development set:\n",
      "0.615711626575\n",
      "Grid scores on development set:\r\n",
      "\n",
      "0.616 (+/-0.033) for {'vtc__voting': 'soft'}\n",
      "\n"
     ]
    }
   ],
   "source": [
    "#parámetros del mejor clasiffier\n",
    "\n",
    "from sklearn.pipeline import Pipeline\n",
    "from sklearn.grid_search import GridSearchCV\n",
    "from sklearn.svm import SVC\n",
    "from sklearn.ensemble import RandomForestClassifier\n",
    "from sklearn.ensemble import AdaBoostClassifier\n",
    "from sklearn.ensemble import GradientBoostingClassifier\n",
    "from sklearn.ensemble import ExtraTreesClassifier\n",
    "from sklearn.ensemble import VotingClassifier\n",
    "from sklearn.preprocessing import StandardScaler\n",
    "from sklearn.feature_selection import SelectFromModel\n",
    "from sklearn.cross_validation import StratifiedShuffleSplit\n",
    "\n",
    "from sklearn.decomposition import PCA\n",
    "\n",
    "classifiers = [\n",
    "               ('rfc', RandomForestClassifier(n_estimators = 500, class_weight='balanced', min_samples_split=2, min_samples_leaf=2)),\n",
    "               ('abc', AdaBoostClassifier(n_estimators = 500, learning_rate= 0.9)),\n",
    "               ('gbc', GradientBoostingClassifier(n_estimators = 500, max_features=0.4, min_samples_split=4)),\n",
    "              ]\n",
    "\n",
    "params = [{'vtc__voting': ['soft']}]\n",
    "preliminary_steps = []\n",
    "\n",
    "clf = VotingClassifier(estimators=classifiers)\n",
    "grids = grid_search_multiple(train_data[predictors], train_data[target_var], \n",
    "                             algorithms=[[('vtc', clf)]], parameters=params, preliminary_steps=preliminary_steps,\n",
    "                             cv=StratifiedShuffleSplit(train_data[target_var], n_iter=6, test_size=0.1),\n",
    "                             n_jobs=-2,\n",
    "                             verbose=1)"
   ]
  },
  {
   "cell_type": "raw",
   "metadata": {
    "collapsed": false
   },
   "source": [
    "final_cluster_clfs = list()\n",
    "predictionsdf = pd.DataFrame()\n",
    "\n",
    "test_data['cluster'] = mbkm.predict(test_data[selected_columns])\n",
    "\n",
    "for cluster in range(total_clusters):\n",
    "    print('Fitting on cluster', cluster)\n",
    "    X = train_data.loc[train_data['cluster'] == cluster, selected_columns] \n",
    "    y = train_data.loc[train_data['cluster'] == cluster, target_var]\n",
    "\n",
    "    params = {'voting': ['soft']}\n",
    "    clf = VotingClassifier(estimators=classifiers, voting='soft')\n",
    "    \n",
    "    print(\"Preparing to fit\")\n",
    "    clf.fit(X, y)\n",
    "    final_cluster_clfs.append(clf)\n",
    "\n",
    "    # The .astype(float) is necessary to convert the dataframe to all floats and avoid an sklearn error.\n",
    "    predictions = clf.predict_proba(test_data.loc[test_data['cluster'] == cluster, selected_columns].astype(float))\n",
    "    predictionsdf = pd.concat([predictionsdf, pd.DataFrame(data = predictions[:, 1],\n",
    "                             index = test_data.loc[test_data['cluster'] == cluster, \"customer\"],\n",
    "                             columns = [\"churn\"])])\n",
    "\n",
    "predictionsdf.to_csv(\"data/predictions.csv\")"
   ]
  },
  {
   "cell_type": "code",
   "execution_count": 5,
   "metadata": {
    "collapsed": false
   },
   "outputs": [],
   "source": [
    "%matplotlib inline\n",
    "\n",
    "from sklearn.metrics import roc_curve, auc\n",
    "from sklearn.cross_validation import StratifiedKFold\n",
    "import numpy as np\n",
    "import matplotlib.pyplot as plt\n",
    "from scipy import interp\n",
    "\n",
    "cv = StratifiedKFold(y, n_folds=5)\n",
    "classifier = VotingClassifier(estimators=classifiers, voting='soft')\n",
    "\n",
    "mean_tpr = 0.0\n",
    "mean_fpr = np.linspace(0, 1, 100)\n",
    "all_tpr = []\n",
    "\n",
    "for i, (train, test) in enumerate(cv):\n",
    "    probas_ = classifier.fit(X.iloc[train], y.iloc[train]).predict_proba(X.iloc[test])\n",
    "    # Compute ROC curve and area the curve\n",
    "    fpr, tpr, thresholds = roc_curve(y.iloc[test], probas_[:, 1])\n",
    "    mean_tpr += interp(mean_fpr, fpr, tpr)\n",
    "    mean_tpr[0] = 0.0\n",
    "    roc_auc = auc(fpr, tpr)\n",
    "    plt.plot(fpr, tpr, lw=1, label='ROC fold %d (area = %0.2f)' % (i, roc_auc))\n",
    "\n",
    "plt.plot([0, 1], [0, 1], '--', color=(0.6, 0.6, 0.6), label='Luck')\n",
    "\n",
    "mean_tpr /= len(cv)\n",
    "mean_tpr[-1] = 1.0\n",
    "mean_auc = auc(mean_fpr, mean_tpr)\n",
    "plt.plot(mean_fpr, mean_tpr, 'k--',\n",
    "         label='Mean ROC (area = %0.2f)' % mean_auc, lw=2)\n",
    "\n",
    "plt.xlim([-0.05, 1.05])\n",
    "plt.ylim([-0.05, 1.05])\n",
    "plt.xlabel('False Positive Rate')\n",
    "plt.ylabel('True Positive Rate')\n",
    "plt.title('Receiver operating characteristic example')\n",
    "plt.legend(loc=\"lower right\")\n",
    "plt.show()"
   ]
  },
  {
   "cell_type": "code",
   "execution_count": 16,
   "metadata": {
    "collapsed": false
   },
   "outputs": [],
   "source": [
    "from sklearn.ensemble import GradientBoostingClassifier\n",
    "\n",
    "X = train_data[predictors]\n",
    "y = train_data[target_var]\n",
    "\n",
    "clf = VotingClassifier(estimators=classifiers, voting='soft')\n",
    "#clf = GradientBoostingClassifier(n_estimators = 1500, random_state=1, max_depth=12, min_samples_split=800,\n",
    "#                                min_samples_leaf=51, max_features=14, learning_rate=0.05, subsample=0.85)\n",
    "clf.fit(X, y)\n",
    "\n",
    "#test_data['cluster'] = mbkm.predict(test_data[descriptors + [\"change_missing\", \"age1_is_null\", \"age2_is_null\", \"missing_mean_info\"]])\n",
    "\n",
    "# The .astype(float) is necessary to convert the dataframe to all floats and avoid an sklearn error.\n",
    "predictions = clf.predict_proba(test_data[predictors].astype(float))\n",
    "predictionsdf = pd.DataFrame(data = predictions[:, 1],\n",
    "                             index = test_data[\"customer\"],\n",
    "                             columns = [\"churn\"])\n",
    "predictionsdf.to_csv(\"data/predictions.csv\")"
   ]
  },
  {
   "cell_type": "code",
   "execution_count": 46,
   "metadata": {
    "collapsed": false
   },
   "outputs": [],
   "source": [
    "from sklearn.pipeline import Pipeline\n",
    "from sklearn.grid_search import GridSearchCV\n",
    "from sklearn.svm import SVC\n",
    "from sklearn.ensemble import RandomForestClassifier\n",
    "from sklearn.ensemble import AdaBoostClassifier\n",
    "from sklearn.ensemble import GradientBoostingClassifier\n",
    "from sklearn.ensemble import ExtraTreesClassifier\n",
    "from sklearn.ensemble import VotingClassifier\n",
    "from sklearn.preprocessing import StandardScaler\n",
    "from sklearn.feature_selection import SelectFromModel\n",
    "from sklearn.cross_validation import StratifiedShuffleSplit\n",
    "\n",
    "from sklearn.decomposition import PCA\n",
    "\n",
    "classifiers = [\n",
    "               ('rfc', RandomForestClassifier(n_estimators = 700, class_weight='balanced', min_samples_split= 2, min_samples_leaf= 2)),\n",
    "               ('abc', AdaBoostClassifier(n_estimators = 500, learning_rate= 0.9)),\n",
    "               ('gbc', GradientBoostingClassifier(n_estimators = 500, max_features= 0.4, min_samples_split= 4))\n",
    "              ]\n",
    "\n",
    "\n",
    "params = {'voting': ['soft']}\n",
    "clf = VotingClassifier(estimators=classifiers)\n",
    "\n",
    "X = train_data[predictors + ['cluster']]\n",
    "y = train_data[target_var]\n",
    "\n",
    "clf = VotingClassifier(estimators=classifiers, voting='soft')\n",
    "clf.fit(X, y)\n",
    "\n",
    "# The .astype(float) is necessary to convert the dataframe to all floats and avoid an sklearn error.\n",
    "predictions = clf.predict_proba(test_data[predictors + ['cluster']].astype(float))\n",
    "predictionsdf = pd.DataFrame(data = predictions[:, 1],\n",
    "                             index = test_data[\"customer\"],\n",
    "                             columns = [\"churn\"])\n",
    "predictionsdf.to_csv(\"data/predictions.csv\")"
   ]
  },
  {
   "cell_type": "code",
   "execution_count": 27,
   "metadata": {
    "collapsed": false
   },
   "outputs": [
    {
     "ename": "NameError",
     "evalue": "name 'mbkm' is not defined",
     "output_type": "error",
     "traceback": [
      "\u001b[0;31m---------------------------------------------------------------------------\u001b[0m",
      "\u001b[0;31mNameError\u001b[0m                                 Traceback (most recent call last)",
      "\u001b[0;32m<ipython-input-27-d41d4b2bfb50>\u001b[0m in \u001b[0;36m<module>\u001b[0;34m()\u001b[0m\n\u001b[1;32m      1\u001b[0m \u001b[0mclf\u001b[0m \u001b[0;34m=\u001b[0m \u001b[0mVotingClassifier\u001b[0m\u001b[0;34m(\u001b[0m\u001b[0mestimators\u001b[0m\u001b[0;34m=\u001b[0m\u001b[0mclassifiers\u001b[0m\u001b[0;34m,\u001b[0m \u001b[0mvoting\u001b[0m\u001b[0;34m=\u001b[0m\u001b[0;34m'soft'\u001b[0m\u001b[0;34m)\u001b[0m\u001b[0;34m\u001b[0m\u001b[0m\n\u001b[1;32m      2\u001b[0m \u001b[0mclf\u001b[0m\u001b[0;34m.\u001b[0m\u001b[0mfit\u001b[0m\u001b[0;34m(\u001b[0m\u001b[0mX\u001b[0m\u001b[0;34m,\u001b[0m \u001b[0my\u001b[0m\u001b[0;34m)\u001b[0m\u001b[0;34m\u001b[0m\u001b[0m\n\u001b[0;32m----> 3\u001b[0;31m \u001b[0mtest_data\u001b[0m\u001b[0;34m[\u001b[0m\u001b[0;34m'cluster'\u001b[0m\u001b[0;34m]\u001b[0m \u001b[0;34m=\u001b[0m \u001b[0mmbkm\u001b[0m\u001b[0;34m.\u001b[0m\u001b[0mpredict\u001b[0m\u001b[0;34m(\u001b[0m\u001b[0mtest_data\u001b[0m\u001b[0;34m[\u001b[0m\u001b[0mselected_columns\u001b[0m\u001b[0;34m]\u001b[0m\u001b[0;34m)\u001b[0m\u001b[0;34m\u001b[0m\u001b[0m\n\u001b[0m\u001b[1;32m      4\u001b[0m \u001b[0;34m\u001b[0m\u001b[0m\n\u001b[1;32m      5\u001b[0m \u001b[0;31m# The .astype(float) is necessary to convert the dataframe to all floats and avoid an sklearn error.\u001b[0m\u001b[0;34m\u001b[0m\u001b[0;34m\u001b[0m\u001b[0m\n",
      "\u001b[0;31mNameError\u001b[0m: name 'mbkm' is not defined"
     ]
    }
   ],
   "source": [
    "clf = VotingClassifier(estimators=classifiers, voting='soft')\n",
    "clf.fit(X, y)\n",
    "test_data['cluster'] = mbkm.predict(test_data[selected_columns])\n",
    "\n",
    "# The .astype(float) is necessary to convert the dataframe to all floats and avoid an sklearn error.\n",
    "predictions = clf.predict_proba(test_data[predictors + ['cluster']].astype(float))\n",
    "predictionsdf = pd.DataFrame(data = predictions[:, 1],\n",
    "                             index = test_data[\"customer\"],\n",
    "                             columns = [\"churn\"])\n",
    "predictionsdf.to_csv(\"data/clustered_predictions.csv\")"
   ]
  },
  {
   "cell_type": "code",
   "execution_count": 56,
   "metadata": {
    "collapsed": false
   },
   "outputs": [
    {
     "data": {
      "image/png": "[encoded data removed]",
      "text/plain": [
       "<matplotlib.figure.Figure at 0x1fc80576198>"
      ]
     },
     "metadata": {},
     "output_type": "display_data"
    }
   ],
   "source": [
    "%matplotlib inline\n",
    "import matplotlib\n",
    "matplotlib.rcParams['figure.figsize'] = (12.0, 8.0)\n",
    "\n",
    "import numpy as np\n",
    "import matplotlib.pyplot as plt\n",
    "from sklearn import cross_validation\n",
    "from sklearn.naive_bayes import GaussianNB\n",
    "from sklearn.svm import SVC\n",
    "from sklearn.datasets import load_digits\n",
    "from sklearn.learning_curve import learning_curve\n",
    "from sklearn.ensemble import adaBoostClassifier\n",
    "\n",
    "\n",
    "def plot_learning_curve(estimator, title, X, y, ylim=None, cv=None,\n",
    "                        n_jobs=1, train_sizes=np.linspace(.1, 1.0, 5)):\n",
    "    \"\"\"\n",
    "    Generate a simple plot of the test and traning learning curve.\n",
    "\n",
    "    Parameters\n",
    "    ----------\n",
    "    estimator : object type that implements the \"fit\" and \"predict\" methods\n",
    "        An object of that type which is cloned for each validation.\n",
    "\n",
    "    title : string\n",
    "        Title for the chart.\n",
    "\n",
    "    X : array-like, shape (n_samples, n_features)\n",
    "        Training vector, where n_samples is the number of samples and\n",
    "        n_features is the number of features.\n",
    "\n",
    "    y : array-like, shape (n_samples) or (n_samples, n_features), optional\n",
    "        Target relative to X for classification or regression;\n",
    "        None for unsupervised learning.\n",
    "\n",
    "    ylim : tuple, shape (ymin, ymax), optional\n",
    "        Defines minimum and maximum yvalues plotted.\n",
    "\n",
    "    cv : integer, cross-validation generator, optional\n",
    "        If an integer is passed, it is the number of folds (defaults to 3).\n",
    "        Specific cross-validation objects can be passed, see\n",
    "        sklearn.cross_validation module for the list of possible objects\n",
    "\n",
    "    n_jobs : integer, optional\n",
    "        Number of jobs to run in parallel (default 1).\n",
    "    \"\"\"\n",
    "    plt.figure()\n",
    "    plt.title(title)\n",
    "    if ylim is not None:\n",
    "        plt.ylim(*ylim)\n",
    "    plt.xlabel(\"Training examples\")\n",
    "    plt.ylabel(\"Score\")\n",
    "    train_sizes, train_scores, test_scores = learning_curve(\n",
    "        estimator, X, y, cv=cv, n_jobs=n_jobs, train_sizes=train_sizes, scoring='roc_auc')\n",
    "    train_scores_mean = np.mean(train_scores, axis=1)\n",
    "    train_scores_std = np.std(train_scores, axis=1)\n",
    "    test_scores_mean = np.mean(test_scores, axis=1)\n",
    "    test_scores_std = np.std(test_scores, axis=1)\n",
    "    plt.grid()\n",
    "\n",
    "    plt.fill_between(train_sizes, train_scores_mean - train_scores_std,\n",
    "                     train_scores_mean + train_scores_std, alpha=0.1,\n",
    "                     color=\"r\")\n",
    "    plt.fill_between(train_sizes, test_scores_mean - test_scores_std,\n",
    "                     test_scores_mean + test_scores_std, alpha=0.1, color=\"g\")\n",
    "    plt.plot(train_sizes, train_scores_mean, 'o-', color=\"r\",\n",
    "             label=\"Training score\")\n",
    "    plt.plot(train_sizes, test_scores_mean, 'o-', color=\"g\",\n",
    "             label=\"Cross-validation score\")\n",
    "\n",
    "    plt.legend(loc=\"best\")\n",
    "    return plt\n",
    "\n",
    "X = train_data[predictors + ['cluster']]\n",
    "y = train_data[target_var]\n",
    "\n",
    "\n",
    "title = \"Learning Curves (GradientBoosting)\"\n",
    "# SVC is more expensive so we do a lower number of CV iterations:\n",
    "cv = cross_validation.ShuffleSplit(X.shape[0], n_iter=10,\n",
    "                                   test_size=0.2, random_state=0)\n",
    "estimator = GradientBoostingClassifier(n_estimators=200)\n",
    "plot_learning_curve(estimator, title, X, y, (0.07, 1.01), cv=cv, n_jobs=-2)\n",
    "\n",
    "plt.show()"
   ]
  },
  {
   "cell_type": "code",
   "execution_count": 9,
   "metadata": {
    "collapsed": false
   },
   "outputs": [
    {
     "data": {
      "image/png": "[encoded data removed]",
      "text/plain": [
       "<matplotlib.figure.Figure at 0x1f77ec15e48>"
      ]
     },
     "metadata": {},
     "output_type": "display_data"
    }
   ],
   "source": [
    "%matplotlib inline\n",
    "import matplotlib\n",
    "matplotlib.rcParams['figure.figsize'] = (12.0, 8.0)\n",
    "\n",
    "import numpy as np\n",
    "import matplotlib.pyplot as plt\n",
    "from sklearn import cross_validation\n",
    "from sklearn.naive_bayes import GaussianNB\n",
    "from sklearn.svm import SVC\n",
    "from sklearn.datasets import load_digits\n",
    "from sklearn.learning_curve import learning_curve\n",
    "from sklearn.ensemble import GradientBoostingClassifier\n",
    "\n",
    "\n",
    "def plot_learning_curve(estimator, title, X, y, ylim=None, cv=None,\n",
    "                        n_jobs=1, train_sizes=np.linspace(.1, 1.0, 5)):\n",
    "    \"\"\"\n",
    "    Generate a simple plot of the test and traning learning curve.\n",
    "\n",
    "    Parameters\n",
    "    ----------\n",
    "    estimator : object type that implements the \"fit\" and \"predict\" methods\n",
    "        An object of that type which is cloned for each validation.\n",
    "\n",
    "    title : string\n",
    "        Title for the chart.\n",
    "\n",
    "    X : array-like, shape (n_samples, n_features)\n",
    "        Training vector, where n_samples is the number of samples and\n",
    "        n_features is the number of features.\n",
    "\n",
    "    y : array-like, shape (n_samples) or (n_samples, n_features), optional\n",
    "        Target relative to X for classification or regression;\n",
    "        None for unsupervised learning.\n",
    "\n",
    "    ylim : tuple, shape (ymin, ymax), optional\n",
    "        Defines minimum and maximum yvalues plotted.\n",
    "\n",
    "    cv : integer, cross-validation generator, optional\n",
    "        If an integer is passed, it is the number of folds (defaults to 3).\n",
    "        Specific cross-validation objects can be passed, see\n",
    "        sklearn.cross_validation module for the list of possible objects\n",
    "\n",
    "    n_jobs : integer, optional\n",
    "        Number of jobs to run in parallel (default 1).\n",
    "    \"\"\"\n",
    "    plt.figure()\n",
    "    plt.title(title)\n",
    "    if ylim is not None:\n",
    "        plt.ylim(*ylim)\n",
    "    plt.xlabel(\"Training examples\")\n",
    "    plt.ylabel(\"Score\")\n",
    "    train_sizes, train_scores, test_scores = learning_curve(\n",
    "        estimator, X, y, cv=cv, n_jobs=n_jobs, train_sizes=train_sizes, scoring='roc_auc')\n",
    "    train_scores_mean = np.mean(train_scores, axis=1)\n",
    "    train_scores_std = np.std(train_scores, axis=1)\n",
    "    test_scores_mean = np.mean(test_scores, axis=1)\n",
    "    test_scores_std = np.std(test_scores, axis=1)\n",
    "    plt.grid()\n",
    "\n",
    "    plt.fill_between(train_sizes, train_scores_mean - train_scores_std,\n",
    "                     train_scores_mean + train_scores_std, alpha=0.1,\n",
    "                     color=\"r\")\n",
    "    plt.fill_between(train_sizes, test_scores_mean - test_scores_std,\n",
    "                     test_scores_mean + test_scores_std, alpha=0.1, color=\"g\")\n",
    "    plt.plot(train_sizes, train_scores_mean, 'o-', color=\"r\",\n",
    "             label=\"Training score\")\n",
    "    plt.plot(train_sizes, test_scores_mean, 'o-', color=\"g\",\n",
    "             label=\"Cross-validation score\")\n",
    "\n",
    "    plt.legend(loc=\"best\")\n",
    "    return plt\n",
    "\n",
    "X = train_data[predictors]\n",
    "y = train_data[target_var]\n",
    "\n",
    "\n",
    "title = \"Learning Curves (GradientBoosting)\"\n",
    "# SVC is more expensive so we do a lower number of CV iterations:\n",
    "cv = cross_validation.ShuffleSplit(X.shape[0], n_iter=10,\n",
    "                                   test_size=0.2, random_state=0)\n",
    "estimator = GradientBoostingClassifier(n_estimators=200)\n",
    "plot_learning_curve(estimator, title, X, y, (0.07, 1.01), cv=cv, n_jobs=-2)\n",
    "\n",
    "plt.show()"
   ]
  },
  {
   "cell_type": "code",
   "execution_count": 17,
   "metadata": {
    "collapsed": false
   },
   "outputs": [
    {
     "name": "stdout",
     "output_type": "stream",
     "text": [
      "[  4   8  16  32  64 128]\n"
     ]
    },
    {
     "name": "stderr",
     "output_type": "stream",
     "text": [
      "[Parallel(n_jobs=-2)]: Done  30 out of  30 | elapsed:  1.1min finished\n"
     ]
    },
    {
     "data": {
      "image/png": "[encoded data removed]",
      "text/plain": [
       "<matplotlib.figure.Figure at 0x1f77d7dfba8>"
      ]
     },
     "metadata": {},
     "output_type": "display_data"
    }
   ],
   "source": [
    "%matplotlib inline\n",
    "import matplotlib\n",
    "matplotlib.rcParams['figure.figsize'] = (12.0, 8.0)\n",
    "\n",
    "import matplotlib.pyplot as plt\n",
    "import numpy as np\n",
    "from sklearn.datasets import load_digits\n",
    "from sklearn.svm import SVC\n",
    "from sklearn.learning_curve import validation_curve\n",
    "from sklearn.ensemble import GradientBoostingClassifier\n",
    "\n",
    "X = train_data[predictors]\n",
    "y = train_data[target_var]\n",
    "\n",
    "param_range = np.logspace(2, 7, 6, base=2).astype('int')\n",
    "print(param_range)\n",
    "train_scores, test_scores = validation_curve(\n",
    "    GradientBoostingClassifier(), X, y, param_name=\"n_estimators\", param_range=param_range,\n",
    "    cv=5, scoring=\"roc_auc\", n_jobs=-2, verbose=2)\n",
    "train_scores_mean = np.mean(train_scores, axis=1)\n",
    "train_scores_std = np.std(train_scores, axis=1)\n",
    "test_scores_mean = np.mean(test_scores, axis=1)\n",
    "test_scores_std = np.std(test_scores, axis=1)\n",
    "\n",
    "plt.title(\"Validation Curve with Gradient Boosting\")\n",
    "plt.xlabel(\"Trees\")\n",
    "plt.ylabel(\"Score\")\n",
    "plt.ylim(0.0, 1.1)\n",
    "plt.semilogx(param_range, train_scores_mean, 'o-', label=\"Training score\", color=\"r\")\n",
    "plt.fill_between(param_range, train_scores_mean - train_scores_std,\n",
    "                 train_scores_mean + train_scores_std, alpha=0.2, color=\"r\")\n",
    "plt.semilogx(param_range, test_scores_mean, 'o-', label=\"Cross-validation score\",\n",
    "             color=\"g\")\n",
    "plt.fill_between(param_range, test_scores_mean - test_scores_std,\n",
    "                 test_scores_mean + test_scores_std, alpha=0.2, color=\"g\")\n",
    "plt.legend(loc=\"best\")\n",
    "plt.show()"
   ]
  },
  {
   "cell_type": "code",
   "execution_count": 7,
   "metadata": {
    "collapsed": false
   },
   "outputs": [
    {
     "name": "stdout",
     "output_type": "stream",
     "text": [
      "[2, 4, 6, 8, 10, 12, 14]\n"
     ]
    },
    {
     "name": "stderr",
     "output_type": "stream",
     "text": [
      "[Parallel(n_jobs=-2)]: Done  35 out of  35 | elapsed: 13.5min finished\n"
     ]
    },
    {
     "data": {
      "image/png": "[encoded data removed]",
      "text/plain": [
       "<matplotlib.figure.Figure at 0x1f1622c2c18>"
      ]
     },
     "metadata": {},
     "output_type": "display_data"
    }
   ],
   "source": [
    "%matplotlib inline\n",
    "import matplotlib\n",
    "matplotlib.rcParams['figure.figsize'] = (12.0, 8.0)\n",
    "\n",
    "import matplotlib.pyplot as plt\n",
    "import numpy as np\n",
    "from sklearn.datasets import load_digits\n",
    "from sklearn.svm import SVC\n",
    "from sklearn.learning_curve import validation_curve\n",
    "from sklearn.ensemble import GradientBoostingClassifier\n",
    "\n",
    "X = train_data[predictors]\n",
    "y = train_data[target_var]\n",
    "\n",
    "param_range = list(range(2, 16, 2))\n",
    "print(param_range)\n",
    "train_scores, test_scores = validation_curve(\n",
    "    GradientBoostingClassifier(n_estimators=64), X, y, param_name=\"max_depth\", param_range=param_range,\n",
    "    cv=5, scoring=\"roc_auc\", n_jobs=-2, verbose=2)\n",
    "train_scores_mean = np.mean(train_scores, axis=1)\n",
    "train_scores_std = np.std(train_scores, axis=1)\n",
    "test_scores_mean = np.mean(test_scores, axis=1)\n",
    "test_scores_std = np.std(test_scores, axis=1)\n",
    "\n",
    "plt.title(\"Validation Curve with Gradient Boosting\")\n",
    "plt.xlabel(\"Max Depth\")\n",
    "plt.ylabel(\"Score\")\n",
    "plt.ylim(0.0, 1.1)\n",
    "plt.plot(param_range, train_scores_mean, 'o-', label=\"Training score\", color=\"r\")\n",
    "plt.fill_between(param_range, train_scores_mean - train_scores_std,\n",
    "                 train_scores_mean + train_scores_std, alpha=0.2, color=\"r\")\n",
    "plt.plot(param_range, test_scores_mean, 'o-', label=\"Cross-validation score\",\n",
    "             color=\"g\")\n",
    "plt.fill_between(param_range, test_scores_mean - test_scores_std,\n",
    "                 test_scores_mean + test_scores_std, alpha=0.2, color=\"g\")\n",
    "plt.legend(loc=\"best\")\n",
    "plt.show()"
   ]
  },
  {
   "cell_type": "code",
   "execution_count": 10,
   "metadata": {
    "collapsed": false
   },
   "outputs": [
    {
     "name": "stdout",
     "output_type": "stream",
     "text": [
      "[   4    8   16   32   64  128  256  512 1024 2048]\n"
     ]
    },
    {
     "name": "stderr",
     "output_type": "stream",
     "text": [
      "[Parallel(n_jobs=-2)]: Done  50 out of  50 | elapsed:  3.5min finished\n"
     ]
    },
    {
     "data": {
      "image/png": "[encoded data removed]",
      "text/plain": [
       "<matplotlib.figure.Figure at 0x1f163c78198>"
      ]
     },
     "metadata": {},
     "output_type": "display_data"
    }
   ],
   "source": [
    "%matplotlib inline\n",
    "import matplotlib\n",
    "matplotlib.rcParams['figure.figsize'] = (12.0, 8.0)\n",
    "\n",
    "import matplotlib.pyplot as plt\n",
    "import numpy as np\n",
    "from sklearn.datasets import load_digits\n",
    "from sklearn.svm import SVC\n",
    "from sklearn.learning_curve import validation_curve\n",
    "from sklearn.ensemble import GradientBoostingClassifier\n",
    "\n",
    "X = train_data[predictors]\n",
    "y = train_data[target_var]\n",
    "\n",
    "param_range = np.logspace(2, 11, 10, base=2).astype('int')\n",
    "print(param_range)\n",
    "train_scores, test_scores = validation_curve(\n",
    "    GradientBoostingClassifier(n_estimators=64, max_depth=4), X, y, param_name=\"min_samples_split\", param_range=param_range,\n",
    "    cv=5, scoring=\"roc_auc\", n_jobs=-2, verbose=2)\n",
    "train_scores_mean = np.mean(train_scores, axis=1)\n",
    "train_scores_std = np.std(train_scores, axis=1)\n",
    "test_scores_mean = np.mean(test_scores, axis=1)\n",
    "test_scores_std = np.std(test_scores, axis=1)\n",
    "\n",
    "plt.title(\"Validation Curve with Gradient Boosting\")\n",
    "plt.xlabel(\"Minimum Samples Split\")\n",
    "plt.ylabel(\"Score\")\n",
    "plt.ylim(0.0, 1.1)\n",
    "plt.semilogx(param_range, train_scores_mean, 'o-', label=\"Training score\", color=\"r\")\n",
    "plt.fill_between(param_range, train_scores_mean - train_scores_std,\n",
    "                 train_scores_mean + train_scores_std, alpha=0.2, color=\"r\")\n",
    "plt.semilogx(param_range, test_scores_mean, 'o-', label=\"Cross-validation score\",\n",
    "             color=\"g\")\n",
    "plt.fill_between(param_range, test_scores_mean - test_scores_std,\n",
    "                 test_scores_mean + test_scores_std, alpha=0.2, color=\"g\")\n",
    "plt.legend(loc=\"best\")\n",
    "plt.show()"
   ]
  },
  {
   "cell_type": "code",
   "execution_count": 11,
   "metadata": {
    "collapsed": false
   },
   "outputs": [
    {
     "name": "stdout",
     "output_type": "stream",
     "text": [
      "[1, 11, 21, 31, 41, 51, 61, 71]\n"
     ]
    },
    {
     "name": "stderr",
     "output_type": "stream",
     "text": [
      "[Parallel(n_jobs=-2)]: Done  40 out of  40 | elapsed:  2.9min finished\n"
     ]
    },
    {
     "data": {
      "image/png": "[encoded data removed]",
      "text/plain": [
       "<matplotlib.figure.Figure at 0x1f1648797f0>"
      ]
     },
     "metadata": {},
     "output_type": "display_data"
    }
   ],
   "source": [
    "%matplotlib inline\n",
    "import matplotlib\n",
    "matplotlib.rcParams['figure.figsize'] = (12.0, 8.0)\n",
    "\n",
    "import matplotlib.pyplot as plt\n",
    "import numpy as np\n",
    "from sklearn.datasets import load_digits\n",
    "from sklearn.svm import SVC\n",
    "from sklearn.learning_curve import validation_curve\n",
    "from sklearn.ensemble import GradientBoostingClassifier\n",
    "\n",
    "X = train_data[predictors]\n",
    "y = train_data[target_var]\n",
    "\n",
    "param_range = list(range(1, 72, 10))\n",
    "print(param_range)\n",
    "train_scores, test_scores = validation_curve(\n",
    "    GradientBoostingClassifier(n_estimators=64, max_depth=4, min_samples_split=128), X, y, param_name=\"min_samples_leaf\", param_range=param_range,\n",
    "    cv=5, scoring=\"roc_auc\", n_jobs=-2, verbose=2)\n",
    "train_scores_mean = np.mean(train_scores, axis=1)\n",
    "train_scores_std = np.std(train_scores, axis=1)\n",
    "test_scores_mean = np.mean(test_scores, axis=1)\n",
    "test_scores_std = np.std(test_scores, axis=1)\n",
    "\n",
    "plt.title(\"Validation Curve with Gradient Boosting\")\n",
    "plt.xlabel(\"Minimum Samples Leaf\")\n",
    "plt.ylabel(\"Score\")\n",
    "plt.ylim(0.0, 1.1)\n",
    "plt.plot(param_range, train_scores_mean, 'o-', label=\"Training score\", color=\"r\")\n",
    "plt.fill_between(param_range, train_scores_mean - train_scores_std,\n",
    "                 train_scores_mean + train_scores_std, alpha=0.2, color=\"r\")\n",
    "plt.plot(param_range, test_scores_mean, 'o-', label=\"Cross-validation score\",\n",
    "             color=\"g\")\n",
    "plt.fill_between(param_range, test_scores_mean - test_scores_std,\n",
    "                 test_scores_mean + test_scores_std, alpha=0.2, color=\"g\")\n",
    "plt.legend(loc=\"best\")\n",
    "plt.show()"
   ]
  },
  {
   "cell_type": "code",
   "execution_count": 12,
   "metadata": {
    "collapsed": false
   },
   "outputs": [
    {
     "name": "stdout",
     "output_type": "stream",
     "text": [
      "[6, 8, 10, 12, 14, 16, 18]\n"
     ]
    },
    {
     "name": "stderr",
     "output_type": "stream",
     "text": [
      "[Parallel(n_jobs=-2)]: Done  35 out of  35 | elapsed:   38.8s finished\n"
     ]
    },
    {
     "data": {
      "image/png": "[encoded data removed]",
      "text/plain": [
       "<matplotlib.figure.Figure at 0x1f163ba0128>"
      ]
     },
     "metadata": {},
     "output_type": "display_data"
    }
   ],
   "source": [
    "%matplotlib inline\n",
    "import matplotlib\n",
    "matplotlib.rcParams['figure.figsize'] = (12.0, 8.0)\n",
    "\n",
    "import matplotlib.pyplot as plt\n",
    "import numpy as np\n",
    "from sklearn.datasets import load_digits\n",
    "from sklearn.svm import SVC\n",
    "from sklearn.learning_curve import validation_curve\n",
    "from sklearn.ensemble import GradientBoostingClassifier\n",
    "\n",
    "X = train_data[predictors]\n",
    "y = train_data[target_var]\n",
    "\n",
    "param_range = list(range(6, 20, 2))\n",
    "print(param_range)\n",
    "train_scores, test_scores = validation_curve(\n",
    "    GradientBoostingClassifier(n_estimators=64, max_depth=4, min_samples_split=128), X, y, param_name=\"max_features\", param_range=param_range,\n",
    "    cv=5, scoring=\"roc_auc\", n_jobs=-2, verbose=2)\n",
    "train_scores_mean = np.mean(train_scores, axis=1)\n",
    "train_scores_std = np.std(train_scores, axis=1)\n",
    "test_scores_mean = np.mean(test_scores, axis=1)\n",
    "test_scores_std = np.std(test_scores, axis=1)\n",
    "\n",
    "plt.title(\"Validation Curve with Gradient Boosting\")\n",
    "plt.xlabel(\"Max Features per Tree\")\n",
    "plt.ylabel(\"Score\")\n",
    "plt.ylim(0.0, 1.1)\n",
    "plt.plot(param_range, train_scores_mean, 'o-', label=\"Training score\", color=\"r\")\n",
    "plt.fill_between(param_range, train_scores_mean - train_scores_std,\n",
    "                 train_scores_mean + train_scores_std, alpha=0.2, color=\"r\")\n",
    "plt.plot(param_range, test_scores_mean, 'o-', label=\"Cross-validation score\",\n",
    "             color=\"g\")\n",
    "plt.fill_between(param_range, test_scores_mean - test_scores_std,\n",
    "                 test_scores_mean + test_scores_std, alpha=0.2, color=\"g\")\n",
    "plt.legend(loc=\"best\")\n",
    "plt.show()"
   ]
  },
  {
   "cell_type": "code",
   "execution_count": 15,
   "metadata": {
    "collapsed": false
   },
   "outputs": [
    {
     "name": "stdout",
     "output_type": "stream",
     "text": [
      "[ 0.00390625  0.0078125   0.015625    0.03125     0.0625      0.125       0.25\n",
      "  0.5         1.        ]\n"
     ]
    },
    {
     "name": "stderr",
     "output_type": "stream",
     "text": [
      "[Parallel(n_jobs=-2)]: Done  45 out of  45 | elapsed: 10.2min finished\n"
     ]
    },
    {
     "data": {
      "image/png": "[encoded data removed]",
      "text/plain": [
       "<matplotlib.figure.Figure at 0x1f700826a90>"
      ]
     },
     "metadata": {},
     "output_type": "display_data"
    }
   ],
   "source": [
    "%matplotlib inline\n",
    "import matplotlib\n",
    "matplotlib.rcParams['figure.figsize'] = (12.0, 8.0)\n",
    "\n",
    "import matplotlib.pyplot as plt\n",
    "import numpy as np\n",
    "from sklearn.datasets import load_digits\n",
    "from sklearn.svm import SVC\n",
    "from sklearn.learning_curve import validation_curve\n",
    "from sklearn.ensemble import GradientBoostingClassifier\n",
    "\n",
    "X = train_data[predictors]\n",
    "y = train_data[target_var]\n",
    "\n",
    "param_range = np.logspace(-7, 1, 9, base=2)\n",
    "print(param_range)\n",
    "train_scores, test_scores = validation_curve(\n",
    "    GradientBoostingClassifier(n_estimators=300), X, y, param_name=\"learning_rate\", param_range=param_range,\n",
    "    cv=5, scoring=\"roc_auc\", n_jobs=-2, verbose=2)\n",
    "train_scores_mean = np.mean(train_scores, axis=1)\n",
    "train_scores_std = np.std(train_scores, axis=1)\n",
    "test_scores_mean = np.mean(test_scores, axis=1)\n",
    "test_scores_std = np.std(test_scores, axis=1)\n",
    "\n",
    "plt.title(\"Validation Curve with Gradient Boosting\")\n",
    "plt.xlabel(\"Learning Rate\")\n",
    "plt.ylabel(\"Score\")\n",
    "plt.ylim(0.0, 1.1)\n",
    "plt.semilogx(param_range, train_scores_mean, 'o-', label=\"Training score\", color=\"r\")\n",
    "plt.fill_between(param_range, train_scores_mean - train_scores_std,\n",
    "                 train_scores_mean + train_scores_std, alpha=0.2, color=\"r\")\n",
    "plt.semilogx(param_range, test_scores_mean, 'o-', label=\"Cross-validation score\",\n",
    "             color=\"g\")\n",
    "plt.fill_between(param_range, test_scores_mean - test_scores_std,\n",
    "                 test_scores_mean + test_scores_std, alpha=0.2, color=\"g\")\n",
    "plt.legend(loc=\"best\")\n",
    "plt.show()"
   ]
  },
  {
   "cell_type": "code",
   "execution_count": 22,
   "metadata": {
    "collapsed": false,
    "scrolled": false
   },
   "outputs": [
    {
     "name": "stdout",
     "output_type": "stream",
     "text": [
      "Now testing gbc\n",
      "Preparing to fit\n",
      "Fitting 5 folds for each of 42 candidates, totalling 210 fits\n"
     ]
    },
    {
     "name": "stderr",
     "output_type": "stream",
     "text": [
      "[Parallel(n_jobs=-2)]: Done  27 tasks      | elapsed:  1.2min\n",
      "[Parallel(n_jobs=-2)]: Done 148 tasks      | elapsed: 23.0min\n",
      "[Parallel(n_jobs=-2)]: Done 210 out of 210 | elapsed: 55.3min finished\n"
     ]
    },
    {
     "name": "stdout",
     "output_type": "stream",
     "text": [
      "Fitting completed\n",
      "Best parameters set found on development set:\n",
      "{'gbc__max_depth': 12, 'gbc__min_samples_split': 501}\n",
      "Best score set found on development set:\n",
      "0.662371563574\n",
      "Grid scores on development set:\r\n",
      "\n",
      "0.634 (+/-0.042) for {'gbc__max_depth': 2, 'gbc__min_samples_split': 1}\n",
      "0.634 (+/-0.076) for {'gbc__max_depth': 2, 'gbc__min_samples_split': 101}\n",
      "0.622 (+/-0.039) for {'gbc__max_depth': 2, 'gbc__min_samples_split': 201}\n",
      "0.630 (+/-0.047) for {'gbc__max_depth': 2, 'gbc__min_samples_split': 301}\n",
      "0.614 (+/-0.034) for {'gbc__max_depth': 2, 'gbc__min_samples_split': 401}\n",
      "0.611 (+/-0.034) for {'gbc__max_depth': 2, 'gbc__min_samples_split': 501}\n",
      "0.636 (+/-0.033) for {'gbc__max_depth': 4, 'gbc__min_samples_split': 1}\n",
      "0.629 (+/-0.015) for {'gbc__max_depth': 4, 'gbc__min_samples_split': 101}\n",
      "0.640 (+/-0.037) for {'gbc__max_depth': 4, 'gbc__min_samples_split': 201}\n",
      "0.645 (+/-0.024) for {'gbc__max_depth': 4, 'gbc__min_samples_split': 301}\n",
      "0.637 (+/-0.015) for {'gbc__max_depth': 4, 'gbc__min_samples_split': 401}\n",
      "0.655 (+/-0.053) for {'gbc__max_depth': 4, 'gbc__min_samples_split': 501}\n",
      "0.637 (+/-0.048) for {'gbc__max_depth': 6, 'gbc__min_samples_split': 1}\n",
      "0.622 (+/-0.058) for {'gbc__max_depth': 6, 'gbc__min_samples_split': 101}\n",
      "0.640 (+/-0.033) for {'gbc__max_depth': 6, 'gbc__min_samples_split': 201}\n",
      "0.641 (+/-0.051) for {'gbc__max_depth': 6, 'gbc__min_samples_split': 301}\n",
      "0.651 (+/-0.053) for {'gbc__max_depth': 6, 'gbc__min_samples_split': 401}\n",
      "0.624 (+/-0.053) for {'gbc__max_depth': 6, 'gbc__min_samples_split': 501}\n",
      "0.620 (+/-0.017) for {'gbc__max_depth': 8, 'gbc__min_samples_split': 1}\n",
      "0.641 (+/-0.023) for {'gbc__max_depth': 8, 'gbc__min_samples_split': 101}\n",
      "0.647 (+/-0.045) for {'gbc__max_depth': 8, 'gbc__min_samples_split': 201}\n",
      "0.622 (+/-0.024) for {'gbc__max_depth': 8, 'gbc__min_samples_split': 301}\n",
      "0.625 (+/-0.040) for {'gbc__max_depth': 8, 'gbc__min_samples_split': 401}\n",
      "0.657 (+/-0.018) for {'gbc__max_depth': 8, 'gbc__min_samples_split': 501}\n",
      "0.609 (+/-0.044) for {'gbc__max_depth': 10, 'gbc__min_samples_split': 1}\n",
      "0.631 (+/-0.059) for {'gbc__max_depth': 10, 'gbc__min_samples_split': 101}\n",
      "0.652 (+/-0.053) for {'gbc__max_depth': 10, 'gbc__min_samples_split': 201}\n",
      "0.618 (+/-0.067) for {'gbc__max_depth': 10, 'gbc__min_samples_split': 301}\n",
      "0.622 (+/-0.050) for {'gbc__max_depth': 10, 'gbc__min_samples_split': 401}\n",
      "0.646 (+/-0.039) for {'gbc__max_depth': 10, 'gbc__min_samples_split': 501}\n",
      "0.616 (+/-0.031) for {'gbc__max_depth': 12, 'gbc__min_samples_split': 1}\n",
      "0.606 (+/-0.079) for {'gbc__max_depth': 12, 'gbc__min_samples_split': 101}\n",
      "0.637 (+/-0.053) for {'gbc__max_depth': 12, 'gbc__min_samples_split': 201}\n",
      "0.638 (+/-0.023) for {'gbc__max_depth': 12, 'gbc__min_samples_split': 301}\n",
      "0.620 (+/-0.039) for {'gbc__max_depth': 12, 'gbc__min_samples_split': 401}\n",
      "0.662 (+/-0.077) for {'gbc__max_depth': 12, 'gbc__min_samples_split': 501}\n",
      "0.598 (+/-0.062) for {'gbc__max_depth': 14, 'gbc__min_samples_split': 1}\n",
      "0.597 (+/-0.029) for {'gbc__max_depth': 14, 'gbc__min_samples_split': 101}\n",
      "0.627 (+/-0.042) for {'gbc__max_depth': 14, 'gbc__min_samples_split': 201}\n",
      "0.632 (+/-0.006) for {'gbc__max_depth': 14, 'gbc__min_samples_split': 301}\n",
      "0.611 (+/-0.032) for {'gbc__max_depth': 14, 'gbc__min_samples_split': 401}\n",
      "0.618 (+/-0.022) for {'gbc__max_depth': 14, 'gbc__min_samples_split': 501}\n",
      "\n"
     ]
    }
   ],
   "source": [
    "from sklearn.pipeline import Pipeline\n",
    "from sklearn.grid_search import GridSearchCV\n",
    "from sklearn.svm import SVC\n",
    "from sklearn.ensemble import RandomForestClassifier\n",
    "from sklearn.ensemble import AdaBoostClassifier\n",
    "from sklearn.ensemble import GradientBoostingClassifier\n",
    "from sklearn.ensemble import ExtraTreesClassifier\n",
    "from sklearn.ensemble import VotingClassifier\n",
    "from sklearn.preprocessing import StandardScaler\n",
    "from sklearn.feature_selection import SelectFromModel\n",
    "from sklearn.cross_validation import StratifiedShuffleSplit\n",
    "\n",
    "classifiers = ('gbc', GradientBoostingClassifier(n_estimators = 64, random_state=1))\n",
    "\n",
    "#X = train_data[selected_columns + ['cluster']] \n",
    "#X = train_data[business_vars + ['cluster']]\n",
    "\n",
    "params = [{'gbc__max_depth': list(range(2, 16, 2)), 'gbc__min_samples_split': list(range(1, 502, 100))}]\n",
    "preliminary_steps = []\n",
    "\n",
    "grids = grid_search_multiple(train_data[predictors], train_data[target_var], \n",
    "                             algorithms=[[classifiers]], parameters=params, preliminary_steps=preliminary_steps,\n",
    "                             cv=StratifiedShuffleSplit(train_data[target_var], n_iter=6, test_size=0.1),\n",
    "                             n_jobs=-2,\n",
    "                             verbose=1)"
   ]
  },
  {
   "cell_type": "code",
   "execution_count": null,
   "metadata": {
    "collapsed": false
   },
   "outputs": [
    {
     "name": "stdout",
     "output_type": "stream",
     "text": [
      "Now testing gbc\n",
      "Preparing to fit\n",
      "Fitting 5 folds for each of 30 candidates, totalling 150 fits\n"
     ]
    }
   ],
   "source": [
    "classifiers = ('gbc', GradientBoostingClassifier(n_estimators = 64, random_state=1, max_depth=8))\n",
    "\n",
    "#X = train_data[selected_columns + ['cluster']] \n",
    "#X = train_data[business_vars + ['cluster']]\n",
    "\n",
    "params = [{'gbc__min_samples_split': list(range(600, 1401, 200)), 'gbc__min_samples_leaf': list(range(21, 72, 10))}]\n",
    "preliminary_steps = []\n",
    "\n",
    "grids = grid_search_multiple(train_data[predictors], train_data[target_var], \n",
    "                             algorithms=[[classifiers]], parameters=params, preliminary_steps=preliminary_steps,\n",
    "                             cv=StratifiedShuffleSplit(train_data[target_var], n_iter=10, test_size=0.1),\n",
    "                             n_jobs=-2,\n",
    "                             verbose=1)"
   ]
  },
  {
   "cell_type": "code",
   "execution_count": 29,
   "metadata": {
    "collapsed": false
   },
   "outputs": [
    {
     "name": "stdout",
     "output_type": "stream",
     "text": [
      "Now testing gbc\n",
      "Preparing to fit\n",
      "Fitting 10 folds for each of 7 candidates, totalling 70 fits\n"
     ]
    },
    {
     "name": "stderr",
     "output_type": "stream",
     "text": [
      "[Parallel(n_jobs=-2)]: Done  27 tasks      | elapsed:   39.6s\n",
      "[Parallel(n_jobs=-2)]: Done  70 out of  70 | elapsed:  1.7min finished\n"
     ]
    },
    {
     "name": "stdout",
     "output_type": "stream",
     "text": [
      "Fitting completed\n",
      "Best parameters set found on development set:\n",
      "{'gbc__max_features': 14}\n",
      "Best score set found on development set:\n",
      "0.643846864261\n",
      "Grid scores on development set:\r\n",
      "\n",
      "0.641 (+/-0.065) for {'gbc__max_features': 6}\n",
      "0.624 (+/-0.059) for {'gbc__max_features': 8}\n",
      "0.641 (+/-0.048) for {'gbc__max_features': 10}\n",
      "0.635 (+/-0.030) for {'gbc__max_features': 12}\n",
      "0.644 (+/-0.056) for {'gbc__max_features': 14}\n",
      "0.627 (+/-0.029) for {'gbc__max_features': 16}\n",
      "0.629 (+/-0.043) for {'gbc__max_features': 18}\n",
      "\n"
     ]
    }
   ],
   "source": [
    "classifiers = ('gbc', GradientBoostingClassifier(n_estimators = 64, random_state=1, max_depth=5, min_samples_split=800,\n",
    "                                                min_samples_leaf=51))\n",
    "\n",
    "#X = train_data[selected_columns + ['cluster']] \n",
    "#X = train_data[business_vars + ['cluster']]\n",
    "\n",
    "params = [{'gbc__max_features': list(range(6, 20, 2))}]\n",
    "preliminary_steps = []\n",
    "\n",
    "grids = grid_search_multiple(train_data[predictors], train_data[target_var], \n",
    "                             algorithms=[[classifiers]], parameters=params, preliminary_steps=preliminary_steps,\n",
    "                             cv=StratifiedShuffleSplit(train_data[target_var], n_iter=20, test_size=0.1),\n",
    "                             n_jobs=-2,\n",
    "                             verbose=1)"
   ]
  },
  {
   "cell_type": "code",
   "execution_count": 30,
   "metadata": {
    "collapsed": false
   },
   "outputs": [
    {
     "name": "stdout",
     "output_type": "stream",
     "text": [
      "Now testing gbc\n",
      "Preparing to fit\n",
      "Fitting 10 folds for each of 6 candidates, totalling 60 fits\n"
     ]
    },
    {
     "name": "stderr",
     "output_type": "stream",
     "text": [
      "[Parallel(n_jobs=-2)]: Done  27 tasks      | elapsed:   44.7s\n",
      "[Parallel(n_jobs=-2)]: Done  60 out of  60 | elapsed:  1.4min finished\n"
     ]
    },
    {
     "name": "stdout",
     "output_type": "stream",
     "text": [
      "Fitting completed\n",
      "Best parameters set found on development set:\n",
      "{'gbc__subsample': 0.7}\n",
      "Best score set found on development set:\n",
      "0.64614347079\n",
      "Grid scores on development set:\r\n",
      "\n",
      "0.636 (+/-0.041) for {'gbc__subsample': 0.6}\n",
      "0.646 (+/-0.043) for {'gbc__subsample': 0.7}\n",
      "0.629 (+/-0.048) for {'gbc__subsample': 0.75}\n",
      "0.636 (+/-0.057) for {'gbc__subsample': 0.8}\n",
      "0.639 (+/-0.026) for {'gbc__subsample': 0.85}\n",
      "0.641 (+/-0.035) for {'gbc__subsample': 0.9}\n",
      "\n"
     ]
    }
   ],
   "source": [
    "classifiers = ('gbc', GradientBoostingClassifier(n_estimators = 6, random_state=1, max_depth=5, min_samples_split=800,\n",
    "                                                min_samples_leaf=51, max_features=10))\n",
    "\n",
    "#X = train_data[selected_columns + ['cluster']] \n",
    "#X = train_data[business_vars + ['cluster']]\n",
    "\n",
    "params = [{'gbc__subsample': [0.6, 0.7, 0.75, 0.8, 0.85, 0.9]}]\n",
    "preliminary_steps = []\n",
    "\n",
    "grids = grid_search_multiple(train_data[predictors], train_data[target_var], \n",
    "                             algorithms=[[classifiers]], parameters=params, preliminary_steps=preliminary_steps,\n",
    "                             cv=StratifiedShuffleSplit(train_data[target_var], n_iter=10, test_size=0.1),\n",
    "                             n_jobs=-2,\n",
    "                             verbose=1)"
   ]
  },
  {
   "cell_type": "code",
   "execution_count": 7,
   "metadata": {
    "collapsed": false
   },
   "outputs": [
    {
     "name": "stdout",
     "output_type": "stream",
     "text": [
      "Now testing gbc\n",
      "Preparing to fit\n",
      "Fitting 6 folds for each of 1 candidates, totalling 6 fits\n"
     ]
    },
    {
     "name": "stderr",
     "output_type": "stream",
     "text": [
      "[Parallel(n_jobs=-2)]: Done   6 out of   6 | elapsed:  8.6min finished\n"
     ]
    },
    {
     "name": "stdout",
     "output_type": "stream",
     "text": [
      "Fitting completed\n",
      "Best parameters set found on development set:\n",
      "{'gbc__learning_rate': 0.0078}\n",
      "Best score set found on development set:\n",
      "0.641762421249\n",
      "Grid scores on development set:\r\n",
      "\n",
      "0.642 (+/-0.036) for {'gbc__learning_rate': 0.0078}\n",
      "\n"
     ]
    }
   ],
   "source": [
    "classifiers = ('gbc', GradientBoostingClassifier(n_estimators = 1200, random_state=1, max_depth=4, min_samples_split=128))\n",
    "\n",
    "#X = train_data[selected_columns + ['cluster']] \n",
    "#X = train_data[business_vars + ['cluster']]\n",
    "\n",
    "params = [{'gbc__learning_rate': [0.0078]}]\n",
    "preliminary_steps = []\n",
    "\n",
    "grids = grid_search_multiple(train_data[predictors], train_data[target_var], \n",
    "                             algorithms=[[classifiers]], parameters=params, preliminary_steps=preliminary_steps,\n",
    "                             cv=StratifiedShuffleSplit(train_data[target_var], n_iter=6, test_size=0.1),\n",
    "                             n_jobs=-2,\n",
    "                             verbose=1)"
   ]
  },
  {
   "cell_type": "code",
   "execution_count": 11,
   "metadata": {
    "collapsed": false
   },
   "outputs": [
    {
     "name": "stdout",
     "output_type": "stream",
     "text": [
      "Training fold\n",
      "Training fold\n",
      "Training fold\n",
      "Training fold\n",
      "Training fold\n",
      "ROC AUC: 0.634084828595 (+/- 0.0108585074944 )\n",
      "ROC AUC sobre test set: 0.592840778923\n"
     ]
    }
   ],
   "source": [
    "from sklearn.cross_validation import StratifiedShuffleSplit\n",
    "from xgboost import XGBClassifier\n",
    "from sklearn import metrics\n",
    "from sklearn import cross_validation\n",
    "\n",
    "clf = XGBClassifier(scale_pos_weight=32.3, learning_rate=0.05, n_estimators=200)\n",
    "\n",
    "X_trainP, X_testP, Y_trainP, Y_testP = cross_validation.train_test_split(train_data[predictors],\n",
    "                                                                         train_data[target_var], \n",
    "                                                                         test_size = 0.15,\n",
    "                                                                         stratify=train_data[target_var])\n",
    "\n",
    "kf = cross_validation.StratifiedShuffleSplit(Y_trainP, n_iter=5, test_size=0.2)\n",
    "\n",
    "scores = list()\n",
    "for train_indices, test_indices in kf:\n",
    "    print(\"Training fold\")\n",
    "    X_train, X_test = X_trainP.iloc[train_indices], X_trainP.iloc[test_indices]\n",
    "    Y_train, Y_test = Y_trainP.iloc[train_indices], Y_trainP.iloc[test_indices]\n",
    "    \n",
    "    clf.fit(X_train, Y_train, eval_metric='auc')\n",
    "    \n",
    "    predictions = clf.predict_proba(X_test.astype(float))\n",
    "    score = metrics.roc_auc_score(Y_test, predictions[:, 1])\n",
    "    scores.append(score)\n",
    "\n",
    "print (\"ROC AUC:\", np.mean(scores), \"(+/-\", np.std(scores), \")\")\n",
    "\n",
    "clf = clf.fit(X_trainP, Y_trainP, eval_metric='auc')\n",
    "predictions = clf.predict_proba(X_testP.astype(float))\n",
    "print (\"ROC AUC sobre test set:\", metrics.roc_auc_score(Y_testP, predictions[:, 1]))"
   ]
  },
  {
   "cell_type": "code",
   "execution_count": 11,
   "metadata": {
    "collapsed": false
   },
   "outputs": [
    {
     "data": {
      "image/png": "[encoded data removed]",
      "text/plain": [
       "<matplotlib.figure.Figure at 0x25a201d9a58>"
      ]
     },
     "metadata": {},
     "output_type": "display_data"
    }
   ],
   "source": [
    "%matplotlib inline\n",
    "import matplotlib\n",
    "matplotlib.rcParams['figure.figsize'] = (12.0, 8.0)\n",
    "\n",
    "import numpy as np\n",
    "import matplotlib.pyplot as plt\n",
    "from sklearn import cross_validation\n",
    "from sklearn.naive_bayes import GaussianNB\n",
    "from sklearn.svm import SVC\n",
    "from sklearn.datasets import load_digits\n",
    "from sklearn.learning_curve import learning_curve\n",
    "from sklearn.ensemble import GradientBoostingClassifier\n",
    "\n",
    "\n",
    "def plot_learning_curve(estimator, title, X, y, ylim=None, cv=None,\n",
    "                        n_jobs=1, train_sizes=np.linspace(.1, 1.0, 5)):\n",
    "    \"\"\"\n",
    "    Generate a simple plot of the test and traning learning curve.\n",
    "\n",
    "    Parameters\n",
    "    ----------\n",
    "    estimator : object type that implements the \"fit\" and \"predict\" methods\n",
    "        An object of that type which is cloned for each validation.\n",
    "\n",
    "    title : string\n",
    "        Title for the chart.\n",
    "\n",
    "    X : array-like, shape (n_samples, n_features)\n",
    "        Training vector, where n_samples is the number of samples and\n",
    "        n_features is the number of features.\n",
    "\n",
    "    y : array-like, shape (n_samples) or (n_samples, n_features), optional\n",
    "        Target relative to X for classification or regression;\n",
    "        None for unsupervised learning.\n",
    "\n",
    "    ylim : tuple, shape (ymin, ymax), optional\n",
    "        Defines minimum and maximum yvalues plotted.\n",
    "\n",
    "    cv : integer, cross-validation generator, optional\n",
    "        If an integer is passed, it is the number of folds (defaults to 3).\n",
    "        Specific cross-validation objects can be passed, see\n",
    "        sklearn.cross_validation module for the list of possible objects\n",
    "\n",
    "    n_jobs : integer, optional\n",
    "        Number of jobs to run in parallel (default 1).\n",
    "    \"\"\"\n",
    "    plt.figure()\n",
    "    plt.title(title)\n",
    "    if ylim is not None:\n",
    "        plt.ylim(*ylim)\n",
    "    plt.xlabel(\"Training examples\")\n",
    "    plt.ylabel(\"Score\")\n",
    "    train_sizes, train_scores, test_scores = learning_curve(\n",
    "        estimator, X, y, cv=cv, n_jobs=n_jobs, train_sizes=train_sizes, scoring='roc_auc')\n",
    "    train_scores_mean = np.mean(train_scores, axis=1)\n",
    "    train_scores_std = np.std(train_scores, axis=1)\n",
    "    test_scores_mean = np.mean(test_scores, axis=1)\n",
    "    test_scores_std = np.std(test_scores, axis=1)\n",
    "    plt.grid()\n",
    "\n",
    "    plt.fill_between(train_sizes, train_scores_mean - train_scores_std,\n",
    "                     train_scores_mean + train_scores_std, alpha=0.1,\n",
    "                     color=\"r\")\n",
    "    plt.fill_between(train_sizes, test_scores_mean - test_scores_std,\n",
    "                     test_scores_mean + test_scores_std, alpha=0.1, color=\"g\")\n",
    "    plt.plot(train_sizes, train_scores_mean, 'o-', color=\"r\",\n",
    "             label=\"Training score\")\n",
    "    plt.plot(train_sizes, test_scores_mean, 'o-', color=\"g\",\n",
    "             label=\"Cross-validation score\")\n",
    "\n",
    "    plt.legend(loc=\"best\")\n",
    "    return plt\n",
    "\n",
    "X = train_data[predictors]\n",
    "y = train_data[target_var]\n",
    "\n",
    "\n",
    "title = \"Learning Curves (XGBoost)\"\n",
    "# SVC is more expensive so we do a lower number of CV iterations:\n",
    "cv = cross_validation.ShuffleSplit(X.shape[0], n_iter=10,\n",
    "                                   test_size=0.2, random_state=0)\n",
    "estimator = XGBClassifier(scale_pos_weight=32.3)\n",
    "plot_learning_curve(estimator, title, X, y, (0.07, 1.01), cv=cv, n_jobs=-2)\n",
    "\n",
    "plt.show()"
   ]
  },
  {
   "cell_type": "code",
   "execution_count": 17,
   "metadata": {
    "collapsed": false
   },
   "outputs": [
    {
     "name": "stdout",
     "output_type": "stream",
     "text": [
      "[  1.00000000e-02   4.64158883e-02   2.15443469e-01   1.00000000e+00\n",
      "   4.64158883e+00   2.15443469e+01   1.00000000e+02   4.64158883e+02\n",
      "   2.15443469e+03   1.00000000e+04]\n"
     ]
    },
    {
     "name": "stderr",
     "output_type": "stream",
     "text": [
      "[Parallel(n_jobs=-2)]: Done  50 out of  50 | elapsed:  2.7min finished\n"
     ]
    },
    {
     "data": {
      "image/png": "[encoded data removed]",
      "text/plain": [
       "<matplotlib.figure.Figure at 0x25a20303b00>"
      ]
     },
     "metadata": {},
     "output_type": "display_data"
    }
   ],
   "source": [
    "%matplotlib inline\n",
    "import matplotlib\n",
    "matplotlib.rcParams['figure.figsize'] = (12.0, 8.0)\n",
    "\n",
    "import matplotlib.pyplot as plt\n",
    "import numpy as np\n",
    "from sklearn.datasets import load_digits\n",
    "from sklearn.svm import SVC\n",
    "from sklearn.learning_curve import validation_curve\n",
    "from sklearn.ensemble import GradientBoostingClassifier\n",
    "\n",
    "X = train_data[predictors]\n",
    "y = train_data[target_var]\n",
    "\n",
    "param_range = np.logspace(2, 4, 10, base=10)\n",
    "print(param_range)\n",
    "train_scores, test_scores = validation_curve(\n",
    "    XGBClassifier(scale_pos_weight=32), X, y, param_name=\"reg_alpha\", param_range=param_range,\n",
    "    cv=5, scoring=\"roc_auc\", n_jobs=-2, verbose=2)\n",
    "train_scores_mean = np.mean(train_scores, axis=1)\n",
    "train_scores_std = np.std(train_scores, axis=1)\n",
    "test_scores_mean = np.mean(test_scores, axis=1)\n",
    "test_scores_std = np.std(test_scores, axis=1)\n",
    "\n",
    "plt.title(\"Validation Curve with XGBoost\")\n",
    "plt.xlabel(\"Max Depth\")\n",
    "plt.ylabel(\"Score\")\n",
    "plt.ylim(0.0, 1.1)\n",
    "plt.semilogx(param_range, train_scores_mean, 'o-', label=\"Training score\", color=\"r\")\n",
    "plt.fill_between(param_range, train_scores_mean - train_scores_std,\n",
    "                 train_scores_mean + train_scores_std, alpha=0.2, color=\"r\")\n",
    "plt.semilogx(param_range, test_scores_mean, 'o-', label=\"Cross-validation score\",\n",
    "             color=\"g\")\n",
    "plt.fill_between(param_range, test_scores_mean - test_scores_std,\n",
    "                 test_scores_mean + test_scores_std, alpha=0.2, color=\"g\")\n",
    "plt.legend(loc=\"best\")\n",
    "plt.show()"
   ]
  }
 ],
 "metadata": {
  "kernelspec": {
   "display_name": "Python 3",
   "language": "python",
   "name": "python3"
  },
  "language_info": {
   "codemirror_mode": {
    "name": "ipython",
    "version": 3
   },
   "file_extension": ".py",
   "mimetype": "text/x-python",
   "name": "python",
   "nbconvert_exporter": "python",
   "pygments_lexer": "ipython3",
   "version": "3.5.2"
  }
 },
 "nbformat": 4,
 "nbformat_minor": 0
}
